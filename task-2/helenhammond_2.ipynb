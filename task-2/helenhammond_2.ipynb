{
    "cells": [
        {
            "cell_type": "markdown",
            "metadata": {
                "azdata_cell_guid": "a4b4d86c-0ec3-4cc1-ba2e-4083a97080d5"
            },
            "source": [
                "# Helen Hammond's Module 4 Project"
            ]
        },
        {
            "attachments": {},
            "cell_type": "markdown",
            "metadata": {
                "azdata_cell_guid": "c92d3523-9878-4f8b-a4a8-666f955c57a4"
            },
            "source": [
                "# Task 2"
            ]
        },
        {
            "attachments": {},
            "cell_type": "markdown",
            "metadata": {
                "azdata_cell_guid": "45661b32-4505-4f40-a568-5824e8e0508c"
            },
            "source": [
                "1. See the text Ch 7.14.2.\n",
                "2. For more complex data, we can use a DataFrame. In a DataFrame, each value is a Series of numbers.\n",
                "3. We can use a two-dimensional DataFrame to handle many  exam scores for each key/student.\n",
                "4. Create a new notebook to practice using DataFrames.\n",
                "5. Name the notebook yourname_2.ipynb.\n",
                "6. Use your Markdown skills to add a customized title to your notebook. \n",
                "7. Use Markdown heading for each section below."
            ]
        },
        {
            "attachments": {},
            "cell_type": "markdown",
            "metadata": {
                "azdata_cell_guid": "99f455f9-5c46-4c3e-a817-d932e8b0a39f"
            },
            "source": [
                "## Task 1 - Create DataFrame"
            ]
        },
        {
            "attachments": {},
            "cell_type": "markdown",
            "metadata": {
                "azdata_cell_guid": "df882213-3c2f-4c22-8642-78379066ad86"
            },
            "source": [
                "1. Follow the instructions in 7.14.2 to import pandas as pd and create a pandas DataFrame from a dictionary (a set of key-value pairs) holding multiple exam scores for each key/student. In this example, we have 5 students, each with 3 exam scores, but the scores aren't labeled.  "
            ]
        },
        {
            "attachments": {},
            "cell_type": "markdown",
            "metadata": {
                "azdata_cell_guid": "df2cde78-6462-47f2-a923-341504fe52e9",
                "language": "python"
            },
            "source": [
                "Import pandas module"
            ]
        },
        {
            "cell_type": "code",
            "execution_count": 1,
            "metadata": {
                "azdata_cell_guid": "9be8a7c0-a25e-4b60-8f33-4d9c5f98ee01",
                "language": "python"
            },
            "outputs": [],
            "source": [
                "import pandas as pd"
            ]
        },
        {
            "attachments": {},
            "cell_type": "markdown",
            "metadata": {
                "azdata_cell_guid": "5718765c-58b8-4749-bcc9-23ede27413b6"
            },
            "source": [
                "Create a pandas DataFrame from a dictionary"
            ]
        },
        {
            "cell_type": "code",
            "execution_count": 2,
            "metadata": {
                "azdata_cell_guid": "5ee1b4cf-4ead-4ab8-9e7f-e0d9f2ec819b",
                "language": "python"
            },
            "outputs": [],
            "source": [
                "grades_dict = {'Wally': [87, 96, 70], 'Eva': [100, 87, 90], 'Sam': [94, 77, 90], 'Katie': [100, 81, 82],'Bob': [83, 65, 85]}"
            ]
        },
        {
            "attachments": {},
            "cell_type": "markdown",
            "metadata": {
                "azdata_cell_guid": "05d3134c-b550-4ebf-9347-8aa479559288",
                "language": "python"
            },
            "source": [
                "Display the grades"
            ]
        },
        {
            "cell_type": "code",
            "execution_count": 3,
            "metadata": {
                "azdata_cell_guid": "6b4f328f-af15-42d8-bebc-a84e0de0616c",
                "language": "python"
            },
            "outputs": [
                {
                    "data": {
                        "text/html": [
                            "<div>\n",
                            "<style scoped>\n",
                            "    .dataframe tbody tr th:only-of-type {\n",
                            "        vertical-align: middle;\n",
                            "    }\n",
                            "\n",
                            "    .dataframe tbody tr th {\n",
                            "        vertical-align: top;\n",
                            "    }\n",
                            "\n",
                            "    .dataframe thead th {\n",
                            "        text-align: right;\n",
                            "    }\n",
                            "</style>\n",
                            "<table border=\"1\" class=\"dataframe\">\n",
                            "  <thead>\n",
                            "    <tr style=\"text-align: right;\">\n",
                            "      <th></th>\n",
                            "      <th>Wally</th>\n",
                            "      <th>Eva</th>\n",
                            "      <th>Sam</th>\n",
                            "      <th>Katie</th>\n",
                            "      <th>Bob</th>\n",
                            "    </tr>\n",
                            "  </thead>\n",
                            "  <tbody>\n",
                            "    <tr>\n",
                            "      <th>0</th>\n",
                            "      <td>87</td>\n",
                            "      <td>100</td>\n",
                            "      <td>94</td>\n",
                            "      <td>100</td>\n",
                            "      <td>83</td>\n",
                            "    </tr>\n",
                            "    <tr>\n",
                            "      <th>1</th>\n",
                            "      <td>96</td>\n",
                            "      <td>87</td>\n",
                            "      <td>77</td>\n",
                            "      <td>81</td>\n",
                            "      <td>65</td>\n",
                            "    </tr>\n",
                            "    <tr>\n",
                            "      <th>2</th>\n",
                            "      <td>70</td>\n",
                            "      <td>90</td>\n",
                            "      <td>90</td>\n",
                            "      <td>82</td>\n",
                            "      <td>85</td>\n",
                            "    </tr>\n",
                            "  </tbody>\n",
                            "</table>\n",
                            "</div>"
                        ],
                        "text/plain": [
                            "   Wally  Eva  Sam  Katie  Bob\n",
                            "0     87  100   94    100   83\n",
                            "1     96   87   77     81   65\n",
                            "2     70   90   90     82   85"
                        ]
                    },
                    "execution_count": 3,
                    "metadata": {},
                    "output_type": "execute_result"
                }
            ],
            "source": [
                "grades = pd.DataFrame(grades_dict)\n",
                "grades"
            ]
        },
        {
            "attachments": {},
            "cell_type": "markdown",
            "metadata": {
                "azdata_cell_guid": "23ba3281-7700-4a95-bac7-ee787426b8a4",
                "language": "python"
            },
            "source": [
                "## Task 2 - Custom Index"
            ]
        },
        {
            "attachments": {},
            "cell_type": "markdown",
            "metadata": {
                "azdata_cell_guid": "dcb6d14d-9cf8-4d84-a1bb-0b172eb3c782",
                "language": "python"
            },
            "source": [
                "1.\tFollow the instructions to apply a custom index (instead of 0,1,2), let's call them 'Test1', Test2', and 'Test3'. See 'Customizing a DataFrame's Indices with the index Attribute subsection. \n",
                "2.\tAs we did in Part 1, we can request grades by key using the text attribute (square brackets with single quoted text strings). Find Eva's grades with grades['Eva'] \n",
                "3.\tIf no spaces in the key, we can use the simpler dot attribute approach. Find Sam's grades with grades.Sam as shown in 'Accessing a DataFrame's columns' subsection. \n"
            ]
        },
        {
            "attachments": {},
            "cell_type": "markdown",
            "metadata": {
                "azdata_cell_guid": "6dc74f98-bbf8-45a5-855f-fa6cfd25ed86",
                "language": "python"
            },
            "source": [
                "Customize the index"
            ]
        },
        {
            "cell_type": "code",
            "execution_count": 4,
            "metadata": {
                "azdata_cell_guid": "c42a3d99-cfdc-4b10-a807-123642cc6840",
                "language": "python"
            },
            "outputs": [
                {
                    "data": {
                        "text/html": [
                            "<div>\n",
                            "<style scoped>\n",
                            "    .dataframe tbody tr th:only-of-type {\n",
                            "        vertical-align: middle;\n",
                            "    }\n",
                            "\n",
                            "    .dataframe tbody tr th {\n",
                            "        vertical-align: top;\n",
                            "    }\n",
                            "\n",
                            "    .dataframe thead th {\n",
                            "        text-align: right;\n",
                            "    }\n",
                            "</style>\n",
                            "<table border=\"1\" class=\"dataframe\">\n",
                            "  <thead>\n",
                            "    <tr style=\"text-align: right;\">\n",
                            "      <th></th>\n",
                            "      <th>Wally</th>\n",
                            "      <th>Eva</th>\n",
                            "      <th>Sam</th>\n",
                            "      <th>Katie</th>\n",
                            "      <th>Bob</th>\n",
                            "    </tr>\n",
                            "  </thead>\n",
                            "  <tbody>\n",
                            "    <tr>\n",
                            "      <th>Test1</th>\n",
                            "      <td>87</td>\n",
                            "      <td>100</td>\n",
                            "      <td>94</td>\n",
                            "      <td>100</td>\n",
                            "      <td>83</td>\n",
                            "    </tr>\n",
                            "    <tr>\n",
                            "      <th>Test2</th>\n",
                            "      <td>96</td>\n",
                            "      <td>87</td>\n",
                            "      <td>77</td>\n",
                            "      <td>81</td>\n",
                            "      <td>65</td>\n",
                            "    </tr>\n",
                            "    <tr>\n",
                            "      <th>Test3</th>\n",
                            "      <td>70</td>\n",
                            "      <td>90</td>\n",
                            "      <td>90</td>\n",
                            "      <td>82</td>\n",
                            "      <td>85</td>\n",
                            "    </tr>\n",
                            "  </tbody>\n",
                            "</table>\n",
                            "</div>"
                        ],
                        "text/plain": [
                            "       Wally  Eva  Sam  Katie  Bob\n",
                            "Test1     87  100   94    100   83\n",
                            "Test2     96   87   77     81   65\n",
                            "Test3     70   90   90     82   85"
                        ]
                    },
                    "execution_count": 4,
                    "metadata": {},
                    "output_type": "execute_result"
                }
            ],
            "source": [
                "grades.index = ['Test1', 'Test2', 'Test3']\n",
                "grades"
            ]
        },
        {
            "attachments": {},
            "cell_type": "markdown",
            "metadata": {
                "azdata_cell_guid": "57ccf8f7-58cb-4833-8b24-91414927e486",
                "language": "python"
            },
            "source": [
                "Find Eva's grade"
            ]
        },
        {
            "cell_type": "code",
            "execution_count": 5,
            "metadata": {
                "azdata_cell_guid": "9536ea11-8161-4170-8146-fb298d68aa9e",
                "language": "python"
            },
            "outputs": [
                {
                    "data": {
                        "text/plain": [
                            "Test1    100\n",
                            "Test2     87\n",
                            "Test3     90\n",
                            "Name: Eva, dtype: int64"
                        ]
                    },
                    "execution_count": 5,
                    "metadata": {},
                    "output_type": "execute_result"
                }
            ],
            "source": [
                "grades['Eva']"
            ]
        },
        {
            "attachments": {},
            "cell_type": "markdown",
            "metadata": {
                "azdata_cell_guid": "2778b388-1893-4ada-8a87-f647c3aabafc",
                "language": "python"
            },
            "source": [
                "Find Sam's grades using dot attribute approach"
            ]
        },
        {
            "cell_type": "code",
            "execution_count": 6,
            "metadata": {
                "azdata_cell_guid": "72d1632c-c7ce-456c-960c-dc83b9ee423a",
                "language": "python"
            },
            "outputs": [
                {
                    "data": {
                        "text/plain": [
                            "Test1    94\n",
                            "Test2    77\n",
                            "Test3    90\n",
                            "Name: Sam, dtype: int64"
                        ]
                    },
                    "execution_count": 6,
                    "metadata": {},
                    "output_type": "execute_result"
                }
            ],
            "source": [
                "grades.Sam"
            ]
        },
        {
            "attachments": {},
            "cell_type": "markdown",
            "metadata": {
                "azdata_cell_guid": "e9ac8e65-432b-4a13-8451-e6996e5ff646",
                "language": "python"
            },
            "source": [
                "## Task 3 - Accessing Rows (loc, iloc)"
            ]
        },
        {
            "attachments": {},
            "cell_type": "markdown",
            "metadata": {
                "azdata_cell_guid": "4b62e0e3-c880-4d0c-bdcd-fa4ebc4c427d",
                "language": "python"
            },
            "source": [
                "1.\tLike spreadsheets, we can access specific rows or columns.\n",
                "2.\tWe use loc['ColA'] and iloc[i]  to access rows by name and index, respectively.\n",
                "3.\tExecute the examples using loc['Test1'] to get scores for the first exam, or iLoc[0] to get scores for the first exam and iLoc[1] to get scores for the second exam. Which do you prefer? \n",
                "4.\tWe can also get slices of rows, e.g., from ['Test1':'Test3'], inclusive, or, using index values, from [0:2], inclusive."
            ]
        },
        {
            "attachments": {},
            "cell_type": "markdown",
            "metadata": {
                "azdata_cell_guid": "1e259127-31f7-49fd-8bc9-6c9e6283578e",
                "language": "python"
            },
            "source": [
                "Get scores for the first exam using loc\n",
                "\n",
                "Using loc is the preferred approach."
            ]
        },
        {
            "cell_type": "code",
            "execution_count": 7,
            "metadata": {
                "azdata_cell_guid": "589a9550-6099-45e5-9271-c984419b91e4",
                "language": "python"
            },
            "outputs": [
                {
                    "data": {
                        "text/plain": [
                            "Wally     87\n",
                            "Eva      100\n",
                            "Sam       94\n",
                            "Katie    100\n",
                            "Bob       83\n",
                            "Name: Test1, dtype: int64"
                        ]
                    },
                    "execution_count": 7,
                    "metadata": {},
                    "output_type": "execute_result"
                }
            ],
            "source": [
                "grades.loc['Test1']"
            ]
        },
        {
            "attachments": {},
            "cell_type": "markdown",
            "metadata": {
                "azdata_cell_guid": "489bd6eb-fdb9-40d6-ac48-94b822b20016",
                "language": "python"
            },
            "source": [
                "Get scores for the first exam using iloc"
            ]
        },
        {
            "cell_type": "code",
            "execution_count": 8,
            "metadata": {
                "azdata_cell_guid": "284c2163-43b2-464a-aeea-4d9667b4be4e",
                "language": "python"
            },
            "outputs": [
                {
                    "data": {
                        "text/plain": [
                            "Wally     87\n",
                            "Eva      100\n",
                            "Sam       94\n",
                            "Katie    100\n",
                            "Bob       83\n",
                            "Name: Test1, dtype: int64"
                        ]
                    },
                    "execution_count": 8,
                    "metadata": {},
                    "output_type": "execute_result"
                }
            ],
            "source": [
                "grades.iloc[0]"
            ]
        },
        {
            "attachments": {},
            "cell_type": "markdown",
            "metadata": {
                "azdata_cell_guid": "af2cfa2b-18fc-4d98-a1c6-160be28da35b",
                "language": "python"
            },
            "source": [
                "Get scores for the second exam using loc"
            ]
        },
        {
            "cell_type": "code",
            "execution_count": 9,
            "metadata": {
                "azdata_cell_guid": "5eed3976-631c-4826-b35f-a397019fc6d5",
                "language": "python"
            },
            "outputs": [
                {
                    "data": {
                        "text/plain": [
                            "Wally    96\n",
                            "Eva      87\n",
                            "Sam      77\n",
                            "Katie    81\n",
                            "Bob      65\n",
                            "Name: Test2, dtype: int64"
                        ]
                    },
                    "execution_count": 9,
                    "metadata": {},
                    "output_type": "execute_result"
                }
            ],
            "source": [
                "grades.iloc[1]"
            ]
        },
        {
            "attachments": {},
            "cell_type": "markdown",
            "metadata": {
                "azdata_cell_guid": "7826a5b9-110d-4557-9da4-a3883fcae410",
                "language": "python"
            },
            "source": [
                "Get scores from Test 1 to Test 2 u"
            ]
        },
        {
            "cell_type": "code",
            "execution_count": 10,
            "metadata": {
                "azdata_cell_guid": "603c446e-71bb-415d-970e-979381286653",
                "language": "python"
            },
            "outputs": [
                {
                    "data": {
                        "text/html": [
                            "<div>\n",
                            "<style scoped>\n",
                            "    .dataframe tbody tr th:only-of-type {\n",
                            "        vertical-align: middle;\n",
                            "    }\n",
                            "\n",
                            "    .dataframe tbody tr th {\n",
                            "        vertical-align: top;\n",
                            "    }\n",
                            "\n",
                            "    .dataframe thead th {\n",
                            "        text-align: right;\n",
                            "    }\n",
                            "</style>\n",
                            "<table border=\"1\" class=\"dataframe\">\n",
                            "  <thead>\n",
                            "    <tr style=\"text-align: right;\">\n",
                            "      <th></th>\n",
                            "      <th>Wally</th>\n",
                            "      <th>Eva</th>\n",
                            "      <th>Sam</th>\n",
                            "      <th>Katie</th>\n",
                            "      <th>Bob</th>\n",
                            "    </tr>\n",
                            "  </thead>\n",
                            "  <tbody>\n",
                            "    <tr>\n",
                            "      <th>Test1</th>\n",
                            "      <td>87</td>\n",
                            "      <td>100</td>\n",
                            "      <td>94</td>\n",
                            "      <td>100</td>\n",
                            "      <td>83</td>\n",
                            "    </tr>\n",
                            "    <tr>\n",
                            "      <th>Test2</th>\n",
                            "      <td>96</td>\n",
                            "      <td>87</td>\n",
                            "      <td>77</td>\n",
                            "      <td>81</td>\n",
                            "      <td>65</td>\n",
                            "    </tr>\n",
                            "    <tr>\n",
                            "      <th>Test3</th>\n",
                            "      <td>70</td>\n",
                            "      <td>90</td>\n",
                            "      <td>90</td>\n",
                            "      <td>82</td>\n",
                            "      <td>85</td>\n",
                            "    </tr>\n",
                            "  </tbody>\n",
                            "</table>\n",
                            "</div>"
                        ],
                        "text/plain": [
                            "       Wally  Eva  Sam  Katie  Bob\n",
                            "Test1     87  100   94    100   83\n",
                            "Test2     96   87   77     81   65\n",
                            "Test3     70   90   90     82   85"
                        ]
                    },
                    "execution_count": 10,
                    "metadata": {},
                    "output_type": "execute_result"
                }
            ],
            "source": [
                "grades.loc['Test1':'Test3']"
            ]
        },
        {
            "attachments": {},
            "cell_type": "markdown",
            "metadata": {
                "azdata_cell_guid": "c6951ab1-e06e-4ba9-9473-e89b5ed44eea",
                "language": "python"
            },
            "source": [
                "Get scores from using index values"
            ]
        },
        {
            "cell_type": "code",
            "execution_count": 11,
            "metadata": {
                "azdata_cell_guid": "df826e3b-e1ac-4ea9-a140-1c0ec46ee2bc",
                "language": "python"
            },
            "outputs": [
                {
                    "data": {
                        "text/html": [
                            "<div>\n",
                            "<style scoped>\n",
                            "    .dataframe tbody tr th:only-of-type {\n",
                            "        vertical-align: middle;\n",
                            "    }\n",
                            "\n",
                            "    .dataframe tbody tr th {\n",
                            "        vertical-align: top;\n",
                            "    }\n",
                            "\n",
                            "    .dataframe thead th {\n",
                            "        text-align: right;\n",
                            "    }\n",
                            "</style>\n",
                            "<table border=\"1\" class=\"dataframe\">\n",
                            "  <thead>\n",
                            "    <tr style=\"text-align: right;\">\n",
                            "      <th></th>\n",
                            "      <th>Wally</th>\n",
                            "      <th>Eva</th>\n",
                            "      <th>Sam</th>\n",
                            "      <th>Katie</th>\n",
                            "      <th>Bob</th>\n",
                            "    </tr>\n",
                            "  </thead>\n",
                            "  <tbody>\n",
                            "    <tr>\n",
                            "      <th>Test1</th>\n",
                            "      <td>87</td>\n",
                            "      <td>100</td>\n",
                            "      <td>94</td>\n",
                            "      <td>100</td>\n",
                            "      <td>83</td>\n",
                            "    </tr>\n",
                            "    <tr>\n",
                            "      <th>Test2</th>\n",
                            "      <td>96</td>\n",
                            "      <td>87</td>\n",
                            "      <td>77</td>\n",
                            "      <td>81</td>\n",
                            "      <td>65</td>\n",
                            "    </tr>\n",
                            "    <tr>\n",
                            "      <th>Test3</th>\n",
                            "      <td>70</td>\n",
                            "      <td>90</td>\n",
                            "      <td>90</td>\n",
                            "      <td>82</td>\n",
                            "      <td>85</td>\n",
                            "    </tr>\n",
                            "  </tbody>\n",
                            "</table>\n",
                            "</div>"
                        ],
                        "text/plain": [
                            "       Wally  Eva  Sam  Katie  Bob\n",
                            "Test1     87  100   94    100   83\n",
                            "Test2     96   87   77     81   65\n",
                            "Test3     70   90   90     82   85"
                        ]
                    },
                    "execution_count": 11,
                    "metadata": {},
                    "output_type": "execute_result"
                }
            ],
            "source": [
                "grades.iloc[0:3]"
            ]
        },
        {
            "attachments": {},
            "cell_type": "markdown",
            "metadata": {
                "azdata_cell_guid": "9ea2e59c-a3f9-4afa-a95c-8c458a75fa55",
                "language": "python"
            },
            "source": [
                "## Task 3 - Accessing Subsets (at, iat)"
            ]
        },
        {
            "attachments": {},
            "cell_type": "markdown",
            "metadata": {
                "azdata_cell_guid": "bc25fc32-1b94-4d9c-a8a6-fdcc5b65c445",
                "language": "python"
            },
            "source": [
                "1.\tWe can use similar notation to get a single cell in the DataFrame (much like getting a single cell in a spreadsheet). \n",
                "2.\tUse grades.at['Test2', 'Eva'} to find her score on the second exam using labels.\n",
                "3.\tUse grades.iat[2,0] to get the score on the third exam for the first student (Wally), using indices. \n"
            ]
        },
        {
            "attachments": {},
            "cell_type": "markdown",
            "metadata": {
                "azdata_cell_guid": "d32c826c-fe91-4a8e-8b66-1e9eaf08850a",
                "language": "python"
            },
            "source": [
                "Get Eva's score on the second exam using labels"
            ]
        },
        {
            "cell_type": "code",
            "execution_count": 12,
            "metadata": {
                "azdata_cell_guid": "c5bd4a50-3654-4f73-8f3f-2684bc509f78",
                "language": "python"
            },
            "outputs": [
                {
                    "data": {
                        "text/plain": [
                            "87"
                        ]
                    },
                    "execution_count": 12,
                    "metadata": {},
                    "output_type": "execute_result"
                }
            ],
            "source": [
                "grades.at['Test2', 'Eva']"
            ]
        },
        {
            "attachments": {},
            "cell_type": "markdown",
            "metadata": {
                "azdata_cell_guid": "f5c2c31b-b432-44cb-a65b-923c23872c0b",
                "language": "python"
            },
            "source": [
                "Get the first student's score on the third exam using indices"
            ]
        },
        {
            "cell_type": "code",
            "execution_count": 13,
            "metadata": {
                "azdata_cell_guid": "a3ae67ab-11d6-404b-b882-a11ff44ca2fb",
                "language": "python"
            },
            "outputs": [
                {
                    "data": {
                        "text/plain": [
                            "70"
                        ]
                    },
                    "execution_count": 13,
                    "metadata": {},
                    "output_type": "execute_result"
                }
            ],
            "source": [
                "grades.iat[2, 0]"
            ]
        },
        {
            "attachments": {},
            "cell_type": "markdown",
            "metadata": {
                "azdata_cell_guid": "3b197c7e-d74d-4604-b3fe-54f43dbf531c"
            },
            "source": [
                "## Task 4. Describe (By Column)"
            ]
        },
        {
            "attachments": {},
            "cell_type": "markdown",
            "metadata": {
                "azdata_cell_guid": "21be0406-746d-4efb-b25f-1d351b08cdc1"
            },
            "source": [
                "1.\tUse grades.describe() to get descriptive statistics for our gradebook columns.\n",
                "2.\tSee why learning Python and DataFrames can be so powerful?  \n",
                "3.\tTry to set the precision using the pd.set_option('precision',2) provided.\n",
                "4.\tDoes it work? Libraries are evolving. If you get an error, copy the error text and do a web search.\n",
                "5.\tCan you find something about a newer option using \"display.precision\"?\n",
                "6.\tIf so, try pd.set_option(\"display.precision\",2).\n",
                "7.\tBeing able to debug evolving features on your own is important for success.\n",
                "8.\tOur field, languages, and libraries are constantly evolving. "
            ]
        },
        {
            "attachments": {},
            "cell_type": "markdown",
            "metadata": {
                "azdata_cell_guid": "4870738e-00f9-4e65-acad-4f7decd8c650",
                "language": "python"
            },
            "source": [
                "Get descriptive statistics for the grades"
            ]
        },
        {
            "cell_type": "code",
            "execution_count": 14,
            "metadata": {
                "azdata_cell_guid": "cbe24b49-ca7b-4480-b983-5a0a8d41a35e",
                "language": "python"
            },
            "outputs": [
                {
                    "data": {
                        "text/html": [
                            "<div>\n",
                            "<style scoped>\n",
                            "    .dataframe tbody tr th:only-of-type {\n",
                            "        vertical-align: middle;\n",
                            "    }\n",
                            "\n",
                            "    .dataframe tbody tr th {\n",
                            "        vertical-align: top;\n",
                            "    }\n",
                            "\n",
                            "    .dataframe thead th {\n",
                            "        text-align: right;\n",
                            "    }\n",
                            "</style>\n",
                            "<table border=\"1\" class=\"dataframe\">\n",
                            "  <thead>\n",
                            "    <tr style=\"text-align: right;\">\n",
                            "      <th></th>\n",
                            "      <th>Wally</th>\n",
                            "      <th>Eva</th>\n",
                            "      <th>Sam</th>\n",
                            "      <th>Katie</th>\n",
                            "      <th>Bob</th>\n",
                            "    </tr>\n",
                            "  </thead>\n",
                            "  <tbody>\n",
                            "    <tr>\n",
                            "      <th>count</th>\n",
                            "      <td>3.000000</td>\n",
                            "      <td>3.000000</td>\n",
                            "      <td>3.000000</td>\n",
                            "      <td>3.000000</td>\n",
                            "      <td>3.000000</td>\n",
                            "    </tr>\n",
                            "    <tr>\n",
                            "      <th>mean</th>\n",
                            "      <td>84.333333</td>\n",
                            "      <td>92.333333</td>\n",
                            "      <td>87.000000</td>\n",
                            "      <td>87.666667</td>\n",
                            "      <td>77.666667</td>\n",
                            "    </tr>\n",
                            "    <tr>\n",
                            "      <th>std</th>\n",
                            "      <td>13.203535</td>\n",
                            "      <td>6.806859</td>\n",
                            "      <td>8.888194</td>\n",
                            "      <td>10.692677</td>\n",
                            "      <td>11.015141</td>\n",
                            "    </tr>\n",
                            "    <tr>\n",
                            "      <th>min</th>\n",
                            "      <td>70.000000</td>\n",
                            "      <td>87.000000</td>\n",
                            "      <td>77.000000</td>\n",
                            "      <td>81.000000</td>\n",
                            "      <td>65.000000</td>\n",
                            "    </tr>\n",
                            "    <tr>\n",
                            "      <th>25%</th>\n",
                            "      <td>78.500000</td>\n",
                            "      <td>88.500000</td>\n",
                            "      <td>83.500000</td>\n",
                            "      <td>81.500000</td>\n",
                            "      <td>74.000000</td>\n",
                            "    </tr>\n",
                            "    <tr>\n",
                            "      <th>50%</th>\n",
                            "      <td>87.000000</td>\n",
                            "      <td>90.000000</td>\n",
                            "      <td>90.000000</td>\n",
                            "      <td>82.000000</td>\n",
                            "      <td>83.000000</td>\n",
                            "    </tr>\n",
                            "    <tr>\n",
                            "      <th>75%</th>\n",
                            "      <td>91.500000</td>\n",
                            "      <td>95.000000</td>\n",
                            "      <td>92.000000</td>\n",
                            "      <td>91.000000</td>\n",
                            "      <td>84.000000</td>\n",
                            "    </tr>\n",
                            "    <tr>\n",
                            "      <th>max</th>\n",
                            "      <td>96.000000</td>\n",
                            "      <td>100.000000</td>\n",
                            "      <td>94.000000</td>\n",
                            "      <td>100.000000</td>\n",
                            "      <td>85.000000</td>\n",
                            "    </tr>\n",
                            "  </tbody>\n",
                            "</table>\n",
                            "</div>"
                        ],
                        "text/plain": [
                            "           Wally         Eva        Sam       Katie        Bob\n",
                            "count   3.000000    3.000000   3.000000    3.000000   3.000000\n",
                            "mean   84.333333   92.333333  87.000000   87.666667  77.666667\n",
                            "std    13.203535    6.806859   8.888194   10.692677  11.015141\n",
                            "min    70.000000   87.000000  77.000000   81.000000  65.000000\n",
                            "25%    78.500000   88.500000  83.500000   81.500000  74.000000\n",
                            "50%    87.000000   90.000000  90.000000   82.000000  83.000000\n",
                            "75%    91.500000   95.000000  92.000000   91.000000  84.000000\n",
                            "max    96.000000  100.000000  94.000000  100.000000  85.000000"
                        ]
                    },
                    "execution_count": 14,
                    "metadata": {},
                    "output_type": "execute_result"
                }
            ],
            "source": [
                "grades.describe()"
            ]
        },
        {
            "attachments": {},
            "cell_type": "markdown",
            "metadata": {
                "azdata_cell_guid": "5e4df63c-899a-4770-935c-73cc11894351",
                "language": "python"
            },
            "source": [
                "Set precision to 2"
            ]
        },
        {
            "cell_type": "code",
            "execution_count": 15,
            "metadata": {
                "azdata_cell_guid": "63058218-0766-4502-8419-79f0ed287625",
                "language": "python",
                "tags": []
            },
            "outputs": [
                {
                    "data": {
                        "text/plain": [
                            "Wally    84.33\n",
                            "Eva      92.33\n",
                            "Sam      87.00\n",
                            "Katie    87.67\n",
                            "Bob      77.67\n",
                            "dtype: float64"
                        ]
                    },
                    "execution_count": 15,
                    "metadata": {},
                    "output_type": "execute_result"
                }
            ],
            "source": [
                "pd.options.display.precision = 2\n",
                "\n",
                "grades.mean()"
            ]
        },
        {
            "attachments": {},
            "cell_type": "markdown",
            "metadata": {
                "azdata_cell_guid": "187199f7-c88c-4466-a837-b080de2fec71",
                "language": "python"
            },
            "source": [
                "## Task 5. Transpose (rows <--> columns)"
            ]
        },
        {
            "attachments": {},
            "cell_type": "markdown",
            "metadata": {
                "azdata_cell_guid": "3d5bc82c-afbf-4ce5-ad26-ca3ccee50f40",
                "language": "python"
            },
            "source": [
                "1.\tGet the average for each column by calling grades.mean()\n",
                "2.\tTranspose the DataFrame using the T attribute.\n",
                "3.\tGet the mean by the new columns with .T.describe()"
            ]
        },
        {
            "attachments": {},
            "cell_type": "markdown",
            "metadata": {
                "azdata_cell_guid": "43b2331d-bd72-4927-8e03-c171870ab329",
                "language": "python"
            },
            "source": [
                "Average for each column"
            ]
        },
        {
            "cell_type": "code",
            "execution_count": 16,
            "metadata": {
                "azdata_cell_guid": "3c83ff2d-fd9a-401b-aa20-65f97ace3f19",
                "language": "python"
            },
            "outputs": [
                {
                    "data": {
                        "text/plain": [
                            "Wally    84.33\n",
                            "Eva      92.33\n",
                            "Sam      87.00\n",
                            "Katie    87.67\n",
                            "Bob      77.67\n",
                            "dtype: float64"
                        ]
                    },
                    "execution_count": 16,
                    "metadata": {},
                    "output_type": "execute_result"
                }
            ],
            "source": [
                "grades.mean()"
            ]
        },
        {
            "attachments": {},
            "cell_type": "markdown",
            "metadata": {
                "azdata_cell_guid": "fea0c5e0-366d-44dd-b85e-74bb7591fbce",
                "language": "python"
            },
            "source": [
                "Transpose the DataFrame"
            ]
        },
        {
            "cell_type": "code",
            "execution_count": 17,
            "metadata": {
                "azdata_cell_guid": "d2b077e6-8b1c-44a1-bc76-d5ee0bc8a4de",
                "language": "python"
            },
            "outputs": [
                {
                    "data": {
                        "text/html": [
                            "<div>\n",
                            "<style scoped>\n",
                            "    .dataframe tbody tr th:only-of-type {\n",
                            "        vertical-align: middle;\n",
                            "    }\n",
                            "\n",
                            "    .dataframe tbody tr th {\n",
                            "        vertical-align: top;\n",
                            "    }\n",
                            "\n",
                            "    .dataframe thead th {\n",
                            "        text-align: right;\n",
                            "    }\n",
                            "</style>\n",
                            "<table border=\"1\" class=\"dataframe\">\n",
                            "  <thead>\n",
                            "    <tr style=\"text-align: right;\">\n",
                            "      <th></th>\n",
                            "      <th>Test1</th>\n",
                            "      <th>Test2</th>\n",
                            "      <th>Test3</th>\n",
                            "    </tr>\n",
                            "  </thead>\n",
                            "  <tbody>\n",
                            "    <tr>\n",
                            "      <th>Wally</th>\n",
                            "      <td>87</td>\n",
                            "      <td>96</td>\n",
                            "      <td>70</td>\n",
                            "    </tr>\n",
                            "    <tr>\n",
                            "      <th>Eva</th>\n",
                            "      <td>100</td>\n",
                            "      <td>87</td>\n",
                            "      <td>90</td>\n",
                            "    </tr>\n",
                            "    <tr>\n",
                            "      <th>Sam</th>\n",
                            "      <td>94</td>\n",
                            "      <td>77</td>\n",
                            "      <td>90</td>\n",
                            "    </tr>\n",
                            "    <tr>\n",
                            "      <th>Katie</th>\n",
                            "      <td>100</td>\n",
                            "      <td>81</td>\n",
                            "      <td>82</td>\n",
                            "    </tr>\n",
                            "    <tr>\n",
                            "      <th>Bob</th>\n",
                            "      <td>83</td>\n",
                            "      <td>65</td>\n",
                            "      <td>85</td>\n",
                            "    </tr>\n",
                            "  </tbody>\n",
                            "</table>\n",
                            "</div>"
                        ],
                        "text/plain": [
                            "       Test1  Test2  Test3\n",
                            "Wally     87     96     70\n",
                            "Eva      100     87     90\n",
                            "Sam       94     77     90\n",
                            "Katie    100     81     82\n",
                            "Bob       83     65     85"
                        ]
                    },
                    "execution_count": 17,
                    "metadata": {},
                    "output_type": "execute_result"
                }
            ],
            "source": [
                "grades.T"
            ]
        },
        {
            "attachments": {},
            "cell_type": "markdown",
            "metadata": {
                "azdata_cell_guid": "1b62e8f2-7ed4-4b4a-893a-3b19f8e0cbd5",
                "language": "python"
            },
            "source": [
                "Get the descriptive analysis by the new columns"
            ]
        },
        {
            "cell_type": "code",
            "execution_count": 18,
            "metadata": {
                "azdata_cell_guid": "960fe7c4-0042-4ace-ab23-405f03d9b833",
                "language": "python"
            },
            "outputs": [
                {
                    "data": {
                        "text/html": [
                            "<div>\n",
                            "<style scoped>\n",
                            "    .dataframe tbody tr th:only-of-type {\n",
                            "        vertical-align: middle;\n",
                            "    }\n",
                            "\n",
                            "    .dataframe tbody tr th {\n",
                            "        vertical-align: top;\n",
                            "    }\n",
                            "\n",
                            "    .dataframe thead th {\n",
                            "        text-align: right;\n",
                            "    }\n",
                            "</style>\n",
                            "<table border=\"1\" class=\"dataframe\">\n",
                            "  <thead>\n",
                            "    <tr style=\"text-align: right;\">\n",
                            "      <th></th>\n",
                            "      <th>Test1</th>\n",
                            "      <th>Test2</th>\n",
                            "      <th>Test3</th>\n",
                            "    </tr>\n",
                            "  </thead>\n",
                            "  <tbody>\n",
                            "    <tr>\n",
                            "      <th>count</th>\n",
                            "      <td>5.00</td>\n",
                            "      <td>5.00</td>\n",
                            "      <td>5.00</td>\n",
                            "    </tr>\n",
                            "    <tr>\n",
                            "      <th>mean</th>\n",
                            "      <td>92.80</td>\n",
                            "      <td>81.20</td>\n",
                            "      <td>83.40</td>\n",
                            "    </tr>\n",
                            "    <tr>\n",
                            "      <th>std</th>\n",
                            "      <td>7.66</td>\n",
                            "      <td>11.54</td>\n",
                            "      <td>8.23</td>\n",
                            "    </tr>\n",
                            "    <tr>\n",
                            "      <th>min</th>\n",
                            "      <td>83.00</td>\n",
                            "      <td>65.00</td>\n",
                            "      <td>70.00</td>\n",
                            "    </tr>\n",
                            "    <tr>\n",
                            "      <th>25%</th>\n",
                            "      <td>87.00</td>\n",
                            "      <td>77.00</td>\n",
                            "      <td>82.00</td>\n",
                            "    </tr>\n",
                            "    <tr>\n",
                            "      <th>50%</th>\n",
                            "      <td>94.00</td>\n",
                            "      <td>81.00</td>\n",
                            "      <td>85.00</td>\n",
                            "    </tr>\n",
                            "    <tr>\n",
                            "      <th>75%</th>\n",
                            "      <td>100.00</td>\n",
                            "      <td>87.00</td>\n",
                            "      <td>90.00</td>\n",
                            "    </tr>\n",
                            "    <tr>\n",
                            "      <th>max</th>\n",
                            "      <td>100.00</td>\n",
                            "      <td>96.00</td>\n",
                            "      <td>90.00</td>\n",
                            "    </tr>\n",
                            "  </tbody>\n",
                            "</table>\n",
                            "</div>"
                        ],
                        "text/plain": [
                            "        Test1  Test2  Test3\n",
                            "count    5.00   5.00   5.00\n",
                            "mean    92.80  81.20  83.40\n",
                            "std      7.66  11.54   8.23\n",
                            "min     83.00  65.00  70.00\n",
                            "25%     87.00  77.00  82.00\n",
                            "50%     94.00  81.00  85.00\n",
                            "75%    100.00  87.00  90.00\n",
                            "max    100.00  96.00  90.00"
                        ]
                    },
                    "execution_count": 18,
                    "metadata": {},
                    "output_type": "execute_result"
                }
            ],
            "source": [
                "grades.T.describe()"
            ]
        },
        {
            "attachments": {},
            "cell_type": "markdown",
            "metadata": {
                "azdata_cell_guid": "5b75400f-3633-4a5a-b31f-eaf2f12402eb",
                "language": "python"
            },
            "source": [
                "Get the mean by the new columns"
            ]
        },
        {
            "cell_type": "code",
            "execution_count": 19,
            "metadata": {
                "azdata_cell_guid": "209b7c30-5d82-4114-9072-c38e451a1f51",
                "language": "python"
            },
            "outputs": [
                {
                    "data": {
                        "text/plain": [
                            "Test1    92.8\n",
                            "Test2    81.2\n",
                            "Test3    83.4\n",
                            "dtype: float64"
                        ]
                    },
                    "execution_count": 19,
                    "metadata": {},
                    "output_type": "execute_result"
                }
            ],
            "source": [
                "grades.T.mean()"
            ]
        },
        {
            "attachments": {},
            "cell_type": "markdown",
            "metadata": {
                "azdata_cell_guid": "e7f028ff-3701-498f-8d55-a3b92e057261",
                "language": "python"
            },
            "source": [
                "## Task 6. Sort"
            ]
        },
        {
            "attachments": {},
            "cell_type": "markdown",
            "metadata": {
                "azdata_cell_guid": "be99293b-c21c-4f79-955e-066e264e2d44",
                "language": "python"
            },
            "source": [
                "1.\tSort the gradebook rows in reverse order so the most recent exam row appears at the top with grades.sort_index(ascending=False)\n",
                "2.\tSort the gradebook columns so the names appear in order using grades.sort_index(axis=1).\n",
                "3.\tWe can sort our data pretty much however we like. \n"
            ]
        },
        {
            "attachments": {},
            "cell_type": "markdown",
            "metadata": {
                "azdata_cell_guid": "f4c6cb84-3d84-4f71-9171-8951be49aacf",
                "language": "python"
            },
            "source": [
                "Sort the gradebook rows in reverse order"
            ]
        },
        {
            "cell_type": "code",
            "execution_count": 20,
            "metadata": {
                "azdata_cell_guid": "37a1e665-dda9-4e6e-9297-4ab1d63782ce",
                "language": "python"
            },
            "outputs": [
                {
                    "data": {
                        "text/html": [
                            "<div>\n",
                            "<style scoped>\n",
                            "    .dataframe tbody tr th:only-of-type {\n",
                            "        vertical-align: middle;\n",
                            "    }\n",
                            "\n",
                            "    .dataframe tbody tr th {\n",
                            "        vertical-align: top;\n",
                            "    }\n",
                            "\n",
                            "    .dataframe thead th {\n",
                            "        text-align: right;\n",
                            "    }\n",
                            "</style>\n",
                            "<table border=\"1\" class=\"dataframe\">\n",
                            "  <thead>\n",
                            "    <tr style=\"text-align: right;\">\n",
                            "      <th></th>\n",
                            "      <th>Wally</th>\n",
                            "      <th>Eva</th>\n",
                            "      <th>Sam</th>\n",
                            "      <th>Katie</th>\n",
                            "      <th>Bob</th>\n",
                            "    </tr>\n",
                            "  </thead>\n",
                            "  <tbody>\n",
                            "    <tr>\n",
                            "      <th>Test3</th>\n",
                            "      <td>70</td>\n",
                            "      <td>90</td>\n",
                            "      <td>90</td>\n",
                            "      <td>82</td>\n",
                            "      <td>85</td>\n",
                            "    </tr>\n",
                            "    <tr>\n",
                            "      <th>Test2</th>\n",
                            "      <td>96</td>\n",
                            "      <td>87</td>\n",
                            "      <td>77</td>\n",
                            "      <td>81</td>\n",
                            "      <td>65</td>\n",
                            "    </tr>\n",
                            "    <tr>\n",
                            "      <th>Test1</th>\n",
                            "      <td>87</td>\n",
                            "      <td>100</td>\n",
                            "      <td>94</td>\n",
                            "      <td>100</td>\n",
                            "      <td>83</td>\n",
                            "    </tr>\n",
                            "  </tbody>\n",
                            "</table>\n",
                            "</div>"
                        ],
                        "text/plain": [
                            "       Wally  Eva  Sam  Katie  Bob\n",
                            "Test3     70   90   90     82   85\n",
                            "Test2     96   87   77     81   65\n",
                            "Test1     87  100   94    100   83"
                        ]
                    },
                    "execution_count": 20,
                    "metadata": {},
                    "output_type": "execute_result"
                }
            ],
            "source": [
                "grades.sort_index(ascending=False)"
            ]
        },
        {
            "attachments": {},
            "cell_type": "markdown",
            "metadata": {
                "azdata_cell_guid": "eb247e84-897c-44b2-8840-081ec18793b4",
                "language": "python"
            },
            "source": [
                "Sort the gradebook columns"
            ]
        },
        {
            "cell_type": "code",
            "execution_count": 21,
            "metadata": {
                "azdata_cell_guid": "7b9d51ae-f636-434a-9afd-de302dcab159",
                "language": "python"
            },
            "outputs": [
                {
                    "data": {
                        "text/html": [
                            "<div>\n",
                            "<style scoped>\n",
                            "    .dataframe tbody tr th:only-of-type {\n",
                            "        vertical-align: middle;\n",
                            "    }\n",
                            "\n",
                            "    .dataframe tbody tr th {\n",
                            "        vertical-align: top;\n",
                            "    }\n",
                            "\n",
                            "    .dataframe thead th {\n",
                            "        text-align: right;\n",
                            "    }\n",
                            "</style>\n",
                            "<table border=\"1\" class=\"dataframe\">\n",
                            "  <thead>\n",
                            "    <tr style=\"text-align: right;\">\n",
                            "      <th></th>\n",
                            "      <th>Bob</th>\n",
                            "      <th>Eva</th>\n",
                            "      <th>Katie</th>\n",
                            "      <th>Sam</th>\n",
                            "      <th>Wally</th>\n",
                            "    </tr>\n",
                            "  </thead>\n",
                            "  <tbody>\n",
                            "    <tr>\n",
                            "      <th>Test1</th>\n",
                            "      <td>83</td>\n",
                            "      <td>100</td>\n",
                            "      <td>100</td>\n",
                            "      <td>94</td>\n",
                            "      <td>87</td>\n",
                            "    </tr>\n",
                            "    <tr>\n",
                            "      <th>Test2</th>\n",
                            "      <td>65</td>\n",
                            "      <td>87</td>\n",
                            "      <td>81</td>\n",
                            "      <td>77</td>\n",
                            "      <td>96</td>\n",
                            "    </tr>\n",
                            "    <tr>\n",
                            "      <th>Test3</th>\n",
                            "      <td>85</td>\n",
                            "      <td>90</td>\n",
                            "      <td>82</td>\n",
                            "      <td>90</td>\n",
                            "      <td>70</td>\n",
                            "    </tr>\n",
                            "  </tbody>\n",
                            "</table>\n",
                            "</div>"
                        ],
                        "text/plain": [
                            "       Bob  Eva  Katie  Sam  Wally\n",
                            "Test1   83  100    100   94     87\n",
                            "Test2   65   87     81   77     96\n",
                            "Test3   85   90     82   90     70"
                        ]
                    },
                    "execution_count": 21,
                    "metadata": {},
                    "output_type": "execute_result"
                }
            ],
            "source": [
                "grades.sort_index(axis=1)"
            ]
        }
    ],
    "metadata": {
        "kernelspec": {
            "display_name": "Python 3",
            "language": "python",
            "name": "python3"
        },
        "language_info": {
            "codemirror_mode": {
                "name": "ipython",
                "version": 3
            },
            "file_extension": ".py",
            "mimetype": "text/x-python",
            "name": "python",
            "nbconvert_exporter": "python",
            "pygments_lexer": "ipython3",
            "version": "3.10.7"
        },
        "vscode": {
            "interpreter": {
                "hash": "aee8b7b246df8f9039afb4144a1f6fd8d2ca17a180786b69acc140d282b71a49"
            }
        }
    },
    "nbformat": 4,
    "nbformat_minor": 2
}
