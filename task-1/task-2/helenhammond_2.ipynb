{
    "metadata": {
        "kernelspec": {
            "name": "python3",
            "display_name": "Python 3 (ipykernel)",
            "language": "python"
        },
        "language_info": {
            "name": "python",
            "version": "3.10.7",
            "mimetype": "text/x-python",
            "codemirror_mode": {
                "name": "ipython",
                "version": 3
            },
            "pygments_lexer": "ipython3",
            "nbconvert_exporter": "python",
            "file_extension": ".py"
        }
    },
    "nbformat_minor": 2,
    "nbformat": 4,
    "cells": [
        {
            "cell_type": "markdown",
            "source": [
                "# Helen Hammond's Module 4 Project"
            ],
            "metadata": {
                "azdata_cell_guid": "a4b4d86c-0ec3-4cc1-ba2e-4083a97080d5"
            }
        },
        {
            "cell_type": "markdown",
            "source": [
                "1. See the text Ch 7.14.2.\n",
                "2. For more complex data, we can use a DataFrame. In a DataFrame, each value is a Series of numbers.\n",
                "3. We can use a two-dimensional DataFrame to handle many  exam scores for each key/student.\n",
                "4. Create a new notebook to practice using DataFrames.\n",
                "5. Name the notebook yourname_2.ipynb.\n",
                "6. Use your Markdown skills to add a customized title to your notebook. \n",
                "7. Use Markdown heading for each section below."
            ],
            "metadata": {
                "azdata_cell_guid": "45661b32-4505-4f40-a568-5824e8e0508c"
            },
            "attachments": {}
        },
        {
            "cell_type": "markdown",
            "source": [
                "## Task 1 - Create DataFrame"
            ],
            "metadata": {
                "azdata_cell_guid": "99f455f9-5c46-4c3e-a817-d932e8b0a39f"
            },
            "attachments": {}
        },
        {
            "cell_type": "markdown",
            "source": [
                "1. Follow the instructions in 7.14.2 to import pandas as pd and create a pandas DataFrame from a dictionary (a set of key-value pairs) holding multiple exam scores for each key/student. In this example, we have 5 students, each with 3 exam scores, but the scores aren't labeled.  "
            ],
            "metadata": {
                "azdata_cell_guid": "df882213-3c2f-4c22-8642-78379066ad86"
            },
            "attachments": {}
        },
        {
            "cell_type": "markdown",
            "source": [
                "Import pandas module"
            ],
            "metadata": {
                "language": "python",
                "azdata_cell_guid": "df2cde78-6462-47f2-a923-341504fe52e9"
            },
            "attachments": {}
        },
        {
            "cell_type": "code",
            "source": [
                "import pandas as pd"
            ],
            "metadata": {
                "azdata_cell_guid": "9be8a7c0-a25e-4b60-8f33-4d9c5f98ee01",
                "language": "python"
            },
            "outputs": [],
            "execution_count": 65
        },
        {
            "cell_type": "markdown",
            "source": [
                "Create a pandas DataFrame from a dictionary"
            ],
            "metadata": {
                "azdata_cell_guid": "5718765c-58b8-4749-bcc9-23ede27413b6"
            },
            "attachments": {}
        },
        {
            "cell_type": "code",
            "source": [
                "grades_dict = {'Wally': [87, 96, 70], 'Eva': [100, 87, 90], 'Sam': [94, 77, 90], 'Katie': [100, 81, 82],'Bob': [83, 65, 85]}"
            ],
            "metadata": {
                "azdata_cell_guid": "5ee1b4cf-4ead-4ab8-9e7f-e0d9f2ec819b",
                "language": "python"
            },
            "outputs": [],
            "execution_count": 66
        },
        {
            "cell_type": "markdown",
            "source": [
                "Display the grades"
            ],
            "metadata": {
                "language": "python",
                "azdata_cell_guid": "05d3134c-b550-4ebf-9347-8aa479559288"
            },
            "attachments": {}
        },
        {
            "cell_type": "code",
            "source": [
                "grades = pd.DataFrame(grades_dict)\n",
                "grades"
            ],
            "metadata": {
                "language": "python",
                "azdata_cell_guid": "6b4f328f-af15-42d8-bebc-a84e0de0616c"
            },
            "outputs": [
                {
                    "data": {
                        "text/plain": "   Wally  Eva  Sam  Katie  Bob\n0     87  100   94    100   83\n1     96   87   77     81   65\n2     70   90   90     82   85",
                        "text/html": "<div>\n<style scoped>\n    .dataframe tbody tr th:only-of-type {\n        vertical-align: middle;\n    }\n\n    .dataframe tbody tr th {\n        vertical-align: top;\n    }\n\n    .dataframe thead th {\n        text-align: right;\n    }\n</style>\n<table border=\"1\" class=\"dataframe\">\n  <thead>\n    <tr style=\"text-align: right;\">\n      <th></th>\n      <th>Wally</th>\n      <th>Eva</th>\n      <th>Sam</th>\n      <th>Katie</th>\n      <th>Bob</th>\n    </tr>\n  </thead>\n  <tbody>\n    <tr>\n      <th>0</th>\n      <td>87</td>\n      <td>100</td>\n      <td>94</td>\n      <td>100</td>\n      <td>83</td>\n    </tr>\n    <tr>\n      <th>1</th>\n      <td>96</td>\n      <td>87</td>\n      <td>77</td>\n      <td>81</td>\n      <td>65</td>\n    </tr>\n    <tr>\n      <th>2</th>\n      <td>70</td>\n      <td>90</td>\n      <td>90</td>\n      <td>82</td>\n      <td>85</td>\n    </tr>\n  </tbody>\n</table>\n</div>"
                    },
                    "metadata": {},
                    "execution_count": 67,
                    "output_type": "execute_result"
                }
            ],
            "execution_count": 67
        },
        {
            "cell_type": "markdown",
            "source": [
                "## Task 2 - Custom Index"
            ],
            "metadata": {
                "language": "python",
                "azdata_cell_guid": "23ba3281-7700-4a95-bac7-ee787426b8a4"
            },
            "attachments": {}
        },
        {
            "cell_type": "markdown",
            "source": [
                "1.\tFollow the instructions to apply a custom index (instead of 0,1,2), let's call them 'Test1', Test2', and 'Test3'. See 'Customizing a DataFrame's Indices with the index Attribute subsection. \n",
                "2.\tAs we did in Part 1, we can request grades by key using the text attribute (square brackets with single quoted text strings). Find Eva's grades with grades['Eva'] \n",
                "3.\tIf no spaces in the key, we can use the simpler dot attribute approach. Find Sam's grades with grades.Sam as shown in 'Accessing a DataFrame's columns' subsection. \n",
                ""
            ],
            "metadata": {
                "language": "python",
                "azdata_cell_guid": "dcb6d14d-9cf8-4d84-a1bb-0b172eb3c782"
            },
            "attachments": {}
        },
        {
            "cell_type": "markdown",
            "source": [
                "Customize the index"
            ],
            "metadata": {
                "language": "python",
                "azdata_cell_guid": "6dc74f98-bbf8-45a5-855f-fa6cfd25ed86"
            },
            "attachments": {}
        },
        {
            "cell_type": "code",
            "source": [
                "grades.index = ['Test1', 'Test2', 'Test3']\n",
                "grades"
            ],
            "metadata": {
                "language": "python",
                "azdata_cell_guid": "c42a3d99-cfdc-4b10-a807-123642cc6840"
            },
            "outputs": [
                {
                    "data": {
                        "text/plain": "       Wally  Eva  Sam  Katie  Bob\nTest1     87  100   94    100   83\nTest2     96   87   77     81   65\nTest3     70   90   90     82   85",
                        "text/html": "<div>\n<style scoped>\n    .dataframe tbody tr th:only-of-type {\n        vertical-align: middle;\n    }\n\n    .dataframe tbody tr th {\n        vertical-align: top;\n    }\n\n    .dataframe thead th {\n        text-align: right;\n    }\n</style>\n<table border=\"1\" class=\"dataframe\">\n  <thead>\n    <tr style=\"text-align: right;\">\n      <th></th>\n      <th>Wally</th>\n      <th>Eva</th>\n      <th>Sam</th>\n      <th>Katie</th>\n      <th>Bob</th>\n    </tr>\n  </thead>\n  <tbody>\n    <tr>\n      <th>Test1</th>\n      <td>87</td>\n      <td>100</td>\n      <td>94</td>\n      <td>100</td>\n      <td>83</td>\n    </tr>\n    <tr>\n      <th>Test2</th>\n      <td>96</td>\n      <td>87</td>\n      <td>77</td>\n      <td>81</td>\n      <td>65</td>\n    </tr>\n    <tr>\n      <th>Test3</th>\n      <td>70</td>\n      <td>90</td>\n      <td>90</td>\n      <td>82</td>\n      <td>85</td>\n    </tr>\n  </tbody>\n</table>\n</div>"
                    },
                    "metadata": {},
                    "execution_count": 68,
                    "output_type": "execute_result"
                }
            ],
            "execution_count": 68
        },
        {
            "cell_type": "markdown",
            "source": [
                "Find Eva's grade"
            ],
            "metadata": {
                "language": "python",
                "azdata_cell_guid": "57ccf8f7-58cb-4833-8b24-91414927e486"
            },
            "attachments": {}
        },
        {
            "cell_type": "code",
            "source": [
                "grades['Eva']"
            ],
            "metadata": {
                "language": "python",
                "azdata_cell_guid": "9536ea11-8161-4170-8146-fb298d68aa9e"
            },
            "outputs": [
                {
                    "data": {
                        "text/plain": "Test1    100\nTest2     87\nTest3     90\nName: Eva, dtype: int64"
                    },
                    "metadata": {},
                    "execution_count": 69,
                    "output_type": "execute_result"
                }
            ],
            "execution_count": 69
        },
        {
            "cell_type": "markdown",
            "source": [
                "Find Sam's grades using dot attribute approach"
            ],
            "metadata": {
                "language": "python",
                "azdata_cell_guid": "2778b388-1893-4ada-8a87-f647c3aabafc"
            },
            "attachments": {}
        },
        {
            "cell_type": "code",
            "source": [
                "grades.Sam"
            ],
            "metadata": {
                "language": "python",
                "azdata_cell_guid": "72d1632c-c7ce-456c-960c-dc83b9ee423a"
            },
            "outputs": [
                {
                    "data": {
                        "text/plain": "Test1    94\nTest2    77\nTest3    90\nName: Sam, dtype: int64"
                    },
                    "metadata": {},
                    "execution_count": 70,
                    "output_type": "execute_result"
                }
            ],
            "execution_count": 70
        },
        {
            "cell_type": "markdown",
            "source": [
                "## Task 3 - Accessing Rows (loc, iloc)"
            ],
            "metadata": {
                "language": "python",
                "azdata_cell_guid": "e9ac8e65-432b-4a13-8451-e6996e5ff646"
            },
            "attachments": {}
        },
        {
            "cell_type": "markdown",
            "source": [
                "1.\tLike spreadsheets, we can access specific rows or columns.\n",
                "2.\tWe use loc['ColA'] and iloc[i]  to access rows by name and index, respectively.\n",
                "3.\tExecute the examples using loc['Test1'] to get scores for the first exam, or iLoc[0] to get scores for the first exam and iLoc[1] to get scores for the second exam. Which do you prefer? \n",
                "4.\tWe can also get slices of rows, e.g., from ['Test1':'Test3'], inclusive, or, using index values, from [0:2], inclusive."
            ],
            "metadata": {
                "language": "python",
                "azdata_cell_guid": "4b62e0e3-c880-4d0c-bdcd-fa4ebc4c427d"
            },
            "attachments": {}
        },
        {
            "cell_type": "markdown",
            "source": [
                "Get scores for the first exam using loc\n",
                "\n",
                "Using loc is the preferred approach."
            ],
            "metadata": {
                "language": "python",
                "azdata_cell_guid": "1e259127-31f7-49fd-8bc9-6c9e6283578e"
            },
            "attachments": {}
        },
        {
            "cell_type": "code",
            "source": [
                "grades.loc['Test1']"
            ],
            "metadata": {
                "language": "python",
                "azdata_cell_guid": "589a9550-6099-45e5-9271-c984419b91e4"
            },
            "outputs": [
                {
                    "data": {
                        "text/plain": "Wally     87\nEva      100\nSam       94\nKatie    100\nBob       83\nName: Test1, dtype: int64"
                    },
                    "metadata": {},
                    "execution_count": 71,
                    "output_type": "execute_result"
                }
            ],
            "execution_count": 71
        },
        {
            "cell_type": "markdown",
            "source": [
                "Get scores for the first exam using iloc"
            ],
            "metadata": {
                "language": "python",
                "azdata_cell_guid": "489bd6eb-fdb9-40d6-ac48-94b822b20016"
            },
            "attachments": {}
        },
        {
            "cell_type": "code",
            "source": [
                "grades.iloc[0]"
            ],
            "metadata": {
                "language": "python",
                "azdata_cell_guid": "284c2163-43b2-464a-aeea-4d9667b4be4e"
            },
            "outputs": [
                {
                    "data": {
                        "text/plain": "Wally     87\nEva      100\nSam       94\nKatie    100\nBob       83\nName: Test1, dtype: int64"
                    },
                    "metadata": {},
                    "execution_count": 72,
                    "output_type": "execute_result"
                }
            ],
            "execution_count": 72
        },
        {
            "cell_type": "markdown",
            "source": [
                "Get scores for the second exam using loc"
            ],
            "metadata": {
                "language": "python",
                "azdata_cell_guid": "af2cfa2b-18fc-4d98-a1c6-160be28da35b"
            },
            "attachments": {}
        },
        {
            "cell_type": "code",
            "source": [
                "grades.iloc[1]"
            ],
            "metadata": {
                "language": "python",
                "azdata_cell_guid": "5eed3976-631c-4826-b35f-a397019fc6d5"
            },
            "outputs": [
                {
                    "data": {
                        "text/plain": "Wally    96\nEva      87\nSam      77\nKatie    81\nBob      65\nName: Test2, dtype: int64"
                    },
                    "metadata": {},
                    "execution_count": 73,
                    "output_type": "execute_result"
                }
            ],
            "execution_count": 73
        },
        {
            "cell_type": "markdown",
            "source": [
                "Get scores from Test 1 to Test 2 u"
            ],
            "metadata": {
                "language": "python",
                "azdata_cell_guid": "7826a5b9-110d-4557-9da4-a3883fcae410"
            },
            "attachments": {}
        },
        {
            "cell_type": "code",
            "source": [
                "grades.loc['Test1':'Test3']"
            ],
            "metadata": {
                "language": "python",
                "azdata_cell_guid": "603c446e-71bb-415d-970e-979381286653"
            },
            "outputs": [
                {
                    "data": {
                        "text/plain": "       Wally  Eva  Sam  Katie  Bob\nTest1     87  100   94    100   83\nTest2     96   87   77     81   65\nTest3     70   90   90     82   85",
                        "text/html": "<div>\n<style scoped>\n    .dataframe tbody tr th:only-of-type {\n        vertical-align: middle;\n    }\n\n    .dataframe tbody tr th {\n        vertical-align: top;\n    }\n\n    .dataframe thead th {\n        text-align: right;\n    }\n</style>\n<table border=\"1\" class=\"dataframe\">\n  <thead>\n    <tr style=\"text-align: right;\">\n      <th></th>\n      <th>Wally</th>\n      <th>Eva</th>\n      <th>Sam</th>\n      <th>Katie</th>\n      <th>Bob</th>\n    </tr>\n  </thead>\n  <tbody>\n    <tr>\n      <th>Test1</th>\n      <td>87</td>\n      <td>100</td>\n      <td>94</td>\n      <td>100</td>\n      <td>83</td>\n    </tr>\n    <tr>\n      <th>Test2</th>\n      <td>96</td>\n      <td>87</td>\n      <td>77</td>\n      <td>81</td>\n      <td>65</td>\n    </tr>\n    <tr>\n      <th>Test3</th>\n      <td>70</td>\n      <td>90</td>\n      <td>90</td>\n      <td>82</td>\n      <td>85</td>\n    </tr>\n  </tbody>\n</table>\n</div>"
                    },
                    "metadata": {},
                    "execution_count": 74,
                    "output_type": "execute_result"
                }
            ],
            "execution_count": 74
        },
        {
            "cell_type": "markdown",
            "source": [
                "Get scores from using index values"
            ],
            "metadata": {
                "language": "python",
                "azdata_cell_guid": "c6951ab1-e06e-4ba9-9473-e89b5ed44eea"
            },
            "attachments": {}
        },
        {
            "cell_type": "code",
            "source": [
                "grades.iloc[0:3]"
            ],
            "metadata": {
                "language": "python",
                "azdata_cell_guid": "df826e3b-e1ac-4ea9-a140-1c0ec46ee2bc"
            },
            "outputs": [
                {
                    "data": {
                        "text/plain": "       Wally  Eva  Sam  Katie  Bob\nTest1     87  100   94    100   83\nTest2     96   87   77     81   65\nTest3     70   90   90     82   85",
                        "text/html": "<div>\n<style scoped>\n    .dataframe tbody tr th:only-of-type {\n        vertical-align: middle;\n    }\n\n    .dataframe tbody tr th {\n        vertical-align: top;\n    }\n\n    .dataframe thead th {\n        text-align: right;\n    }\n</style>\n<table border=\"1\" class=\"dataframe\">\n  <thead>\n    <tr style=\"text-align: right;\">\n      <th></th>\n      <th>Wally</th>\n      <th>Eva</th>\n      <th>Sam</th>\n      <th>Katie</th>\n      <th>Bob</th>\n    </tr>\n  </thead>\n  <tbody>\n    <tr>\n      <th>Test1</th>\n      <td>87</td>\n      <td>100</td>\n      <td>94</td>\n      <td>100</td>\n      <td>83</td>\n    </tr>\n    <tr>\n      <th>Test2</th>\n      <td>96</td>\n      <td>87</td>\n      <td>77</td>\n      <td>81</td>\n      <td>65</td>\n    </tr>\n    <tr>\n      <th>Test3</th>\n      <td>70</td>\n      <td>90</td>\n      <td>90</td>\n      <td>82</td>\n      <td>85</td>\n    </tr>\n  </tbody>\n</table>\n</div>"
                    },
                    "metadata": {},
                    "execution_count": 75,
                    "output_type": "execute_result"
                }
            ],
            "execution_count": 75
        },
        {
            "cell_type": "markdown",
            "source": [
                "## Task 3 - Accessing Subsets (at, iat)"
            ],
            "metadata": {
                "language": "python",
                "azdata_cell_guid": "9ea2e59c-a3f9-4afa-a95c-8c458a75fa55"
            },
            "attachments": {}
        },
        {
            "cell_type": "markdown",
            "source": [
                "1.\tWe can use similar notation to get a single cell in the DataFrame (much like getting a single cell in a spreadsheet). \n",
                "2.\tUse grades.at['Test2', 'Eva'} to find her score on the second exam using labels.\n",
                "3.\tUse grades.iat[2,0] to get the score on the third exam for the first student (Wally), using indices. \n",
                ""
            ],
            "metadata": {
                "language": "python",
                "azdata_cell_guid": "bc25fc32-1b94-4d9c-a8a6-fdcc5b65c445"
            },
            "attachments": {}
        },
        {
            "cell_type": "markdown",
            "source": [
                "Get Eva's score on the second exam using labels"
            ],
            "metadata": {
                "language": "python",
                "azdata_cell_guid": "d32c826c-fe91-4a8e-8b66-1e9eaf08850a"
            },
            "attachments": {}
        },
        {
            "cell_type": "code",
            "source": [
                "grades.at['Test2', 'Eva']"
            ],
            "metadata": {
                "language": "python",
                "azdata_cell_guid": "c5bd4a50-3654-4f73-8f3f-2684bc509f78"
            },
            "outputs": [
                {
                    "data": {
                        "text/plain": "87"
                    },
                    "metadata": {},
                    "execution_count": 78,
                    "output_type": "execute_result"
                }
            ],
            "execution_count": 78
        },
        {
            "cell_type": "markdown",
            "source": [
                "Get the first student's score on the third exam using indices"
            ],
            "metadata": {
                "language": "python",
                "azdata_cell_guid": "f5c2c31b-b432-44cb-a65b-923c23872c0b"
            },
            "attachments": {}
        },
        {
            "cell_type": "code",
            "source": [
                "grades.iat[2, 0]"
            ],
            "metadata": {
                "language": "python",
                "azdata_cell_guid": "a3ae67ab-11d6-404b-b882-a11ff44ca2fb"
            },
            "outputs": [
{
    "data": {
        "text/plain": "70"
    },
    "metadata": {},
    "execution_count": 80,
    "output_type": "execute_result"
}
],
            "execution_count": 80
        },
        {
            "cell_type": "markdown",
            "source": [
                "## Task 2 - Series from Dictionary"
            ],
            "metadata": {
                "azdata_cell_guid": "3b197c7e-d74d-4604-b3fe-54f43dbf531c"
            },
            "attachments": {}
        },
        {
            "cell_type": "markdown",
            "source": [
                "1.\tFollow the instructions in the \"Dictionary Initializers' subsection to modify your code to initialize grades with a dictionary (a set of key-value pairs instead) - we'll use the student name as the key  and their exam score as the value. \n",
                "2.\tGet Eva's score by calling grades['Eva']\n",
                "3.\tGet Wally's score using the easier dot notation: grades.Wally.  This is much more common and can be used as long as there are NO spaces in the key text.  If there are spaces, you'll have to use the approach we used for Eva above - wrapping the key in single quotes. \n",
                "4.\tUse the Series values attribute to display the array of values. \n",
                "5.\tComplete the self-check on Page 266. \n",
                "6.\tWe can use a Series whenever our values are a simple one-dimensional array.  \n",
                "7.\tMake sure the notebook is nicely formatted with a heading and sections in Markdown clearly dividing the work. \n",
                ""
            ],
            "metadata": {
                "azdata_cell_guid": "21be0406-746d-4efb-b25f-1d351b08cdc1"
            },
            "attachments": {}
        },
        {
            "cell_type": "markdown",
            "source": [
                "Initialize grades with a dictionary "
            ],
            "metadata": {
                "language": "python",
                "azdata_cell_guid": "4870738e-00f9-4e65-acad-4f7decd8c650"
            },
            "attachments": {}
        },
        {
            "cell_type": "code",
            "source": [
                "grades = pd.Series({'Wally': 87, 'Eva': 100, 'Sam': 94})\n",
                ""
            ],
            "metadata": {
                "azdata_cell_guid": "cbe24b49-ca7b-4480-b983-5a0a8d41a35e",
                "language": "python"
            },
            "outputs": [],
            "execution_count": 21
        },
        {
            "cell_type": "markdown",
            "source": [
                "Get Eva's score"
            ],
            "metadata": {
                "language": "python",
                "azdata_cell_guid": "5e4df63c-899a-4770-935c-73cc11894351"
            },
            "attachments": {}
        },
        {
            "cell_type": "code",
            "source": [
                "grades['Eva']"
            ],
            "metadata": {
                "language": "python",
                "azdata_cell_guid": "63058218-0766-4502-8419-79f0ed287625"
            },
            "outputs": [
                {
                    "data": {
                        "text/plain": "100"
                    },
                    "metadata": {},
                    "execution_count": 22,
                    "output_type": "execute_result"
                }
            ],
            "execution_count": 22
        },
        {
            "cell_type": "markdown",
            "source": [
                "Get Wally's score"
            ],
            "metadata": {
                "language": "python",
                "azdata_cell_guid": "43b2331d-bd72-4927-8e03-c171870ab329"
            },
            "attachments": {}
        },
        {
            "cell_type": "code",
            "source": [
                "grades.Wally"
            ],
            "metadata": {
                "language": "python",
                "azdata_cell_guid": "3c83ff2d-fd9a-401b-aa20-65f97ace3f19"
            },
            "outputs": [
                {
                    "data": {
                        "text/plain": "87"
                    },
                    "metadata": {},
                    "execution_count": 23,
                    "output_type": "execute_result"
                }
            ],
            "execution_count": 23
        },
        {
            "cell_type": "markdown",
            "source": [
                "Display array of values"
            ],
            "metadata": {
                "language": "python",
                "azdata_cell_guid": "fea0c5e0-366d-44dd-b85e-74bb7591fbce"
            },
            "attachments": {}
        },
        {
            "cell_type": "code",
            "source": [
                "grades.values"
            ],
            "metadata": {
                "language": "python",
                "azdata_cell_guid": "d2b077e6-8b1c-44a1-bc76-d5ee0bc8a4de"
            },
            "outputs": [
                {
                    "data": {
                        "text/plain": "array([ 87, 100,  94])"
                    },
                    "metadata": {},
                    "execution_count": 24,
                    "output_type": "execute_result"
                }
            ],
            "execution_count": 24
        },
        {
            "cell_type": "markdown",
            "source": [
                "### Self-check\n",
                "(IPYTHON SESSION) Use the NumPy’s random-number generation to create an array of five random integers that represent summertime temperatures in the range 60–100, then perform the following tasks:\n",
                "\n",
                "Convert the array into the Series named temperatures and display it.\n",
                "\n",
                "Determine the lowest, highest and average temperatures.\n",
                "\n",
                "Produce descriptive statistics for the Series."
            ],
            "metadata": {
                "language": "python",
                "azdata_cell_guid": "c5826a0c-d16a-4eef-a9d5-50ecc5705c98"
            },
            "attachments": {}
        },
        {
            "cell_type": "markdown",
            "source": [
                "Create array of summertime temperatures between 60 and 100"
            ],
            "metadata": {
                "language": "python",
                "azdata_cell_guid": "a02dcc76-094e-4a40-b463-577c54a26acd"
            },
            "attachments": {}
        },
        {
            "cell_type": "code",
            "source": [
                "import numpy as np\n",
                "\n",
                "st = np.random.randint(60, 100, 11)\n",
                "st"
            ],
            "metadata": {
                "language": "python",
                "azdata_cell_guid": "9e35a341-7fc9-4a13-b435-9a742e4f5ea7"
            },
            "outputs": [
                {
                    "data": {
                        "text/plain": "array([64, 98, 69, 75, 88, 80, 73, 99, 67, 67, 94])"
                    },
                    "metadata": {},
                    "execution_count": 25,
                    "output_type": "execute_result"
                }
            ],
            "execution_count": 25
        },
        {
            "cell_type": "markdown",
            "source": [
                "Change the array to Series"
            ],
            "metadata": {
                "language": "python",
                "azdata_cell_guid": "0a101e70-f7d5-460a-bf40-141b3bc932cc"
            },
            "attachments": {}
        },
        {
            "cell_type": "code",
            "source": [
                "temperatures = pd.Series(st)\n",
                "\n",
                "temperatures"
            ],
            "metadata": {
                "language": "python",
                "azdata_cell_guid": "9db3b1a2-5813-40f1-be78-b86a79d86959"
            },
            "outputs": [
                {
                    "data": {
                        "text/plain": "0     64\n1     98\n2     69\n3     75\n4     88\n5     80\n6     73\n7     99\n8     67\n9     67\n10    94\ndtype: int64"
                    },
                    "metadata": {},
                    "execution_count": 26,
                    "output_type": "execute_result"
                }
            ],
            "execution_count": 26
        },
        {
            "cell_type": "markdown",
            "source": [
                "Show the lowest temperature"
            ],
            "metadata": {
                "language": "python",
                "azdata_cell_guid": "22405d42-c9a2-4f86-bc65-6fde737dda50"
            },
            "attachments": {}
        },
        {
            "cell_type": "code",
            "source": [
                "temperatures.min()"
            ],
            "metadata": {
                "language": "python",
                "azdata_cell_guid": "2db4ec84-ffa7-40e8-9d90-c61a429099dc"
            },
            "outputs": [
                {
                    "data": {
                        "text/plain": "64"
                    },
                    "metadata": {},
                    "execution_count": 27,
                    "output_type": "execute_result"
                }
            ],
            "execution_count": 27
        },
        {
            "cell_type": "markdown",
            "source": [
                "Show the highest temperature"
            ],
            "metadata": {
                "language": "python",
                "azdata_cell_guid": "b51e4818-d138-435a-9bbe-fc1bc60b9d87"
            },
            "attachments": {}
        },
        {
            "cell_type": "code",
            "source": [
                "temperatures.max()"
            ],
            "metadata": {
                "language": "python",
                "azdata_cell_guid": "8ff24deb-7827-476f-9986-9c0dbb4a829a"
            },
            "outputs": [
                {
                    "data": {
                        "text/plain": "99"
                    },
                    "metadata": {},
                    "execution_count": 28,
                    "output_type": "execute_result"
                }
            ],
            "execution_count": 28
        },
        {
            "cell_type": "markdown",
            "source": [
                "Show the average temperature"
            ],
            "metadata": {
                "language": "python",
                "azdata_cell_guid": "f4c6cb84-3d84-4f71-9171-8951be49aacf"
            },
            "attachments": {}
        },
        {
            "cell_type": "code",
            "source": [
                "temperatures.mean()"
            ],
            "metadata": {
                "language": "python",
                "azdata_cell_guid": "37a1e665-dda9-4e6e-9297-4ab1d63782ce"
            },
            "outputs": [
                {
                    "data": {
                        "text/plain": "79.45454545454545"
                    },
                    "metadata": {},
                    "execution_count": 29,
                    "output_type": "execute_result"
                }
            ],
            "execution_count": 29
        },
        {
            "cell_type": "markdown",
            "source": [
                "Describe the temperatures"
            ],
            "metadata": {
                "language": "python",
                "azdata_cell_guid": "eb247e84-897c-44b2-8840-081ec18793b4"
            },
            "attachments": {}
        },
        {
            "cell_type": "code",
            "source": [
                "temperatures.describe()"
            ],
            "metadata": {
                "language": "python",
                "azdata_cell_guid": "7b9d51ae-f636-434a-9afd-de302dcab159"
            },
            "outputs": [
                {
                    "data": {
                        "text/plain": "count    11.000000\nmean     79.454545\nstd      13.155711\nmin      64.000000\n25%      68.000000\n50%      75.000000\n75%      91.000000\nmax      99.000000\ndtype: float64"
                    },
                    "metadata": {},
                    "execution_count": 30,
                    "output_type": "execute_result"
                }
            ],
            "execution_count": 30
        }
    ]
}