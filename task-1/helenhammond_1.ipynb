{
    "metadata": {
        "kernelspec": {
            "name": "python3",
            "display_name": "Python 3 (ipykernel)",
            "language": "python"
        },
        "language_info": {
            "name": "python",
            "version": "3.10.7",
            "mimetype": "text/x-python",
            "codemirror_mode": {
                "name": "ipython",
                "version": 3
            },
            "pygments_lexer": "ipython3",
            "nbconvert_exporter": "python",
            "file_extension": ".py"
        }
    },
    "nbformat_minor": 2,
    "nbformat": 4,
    "cells": [
        {
            "cell_type": "markdown",
            "source": [
                "# Helen Hammond's Module 4 Project"
            ],
            "metadata": {
                "azdata_cell_guid": "a4b4d86c-0ec3-4cc1-ba2e-4083a97080d5"
            }
        },
        {
            "cell_type": "markdown",
            "source": [
                "## Task 1 - Series "
            ],
            "metadata": {
                "azdata_cell_guid": "99f455f9-5c46-4c3e-a817-d932e8b0a39f"
            },
            "attachments": {}
        },
        {
            "cell_type": "markdown",
            "source": [
                "1.\tWe'll look at using a one-dimensional pandas Series to hold and process simple exam data.\n",
                "2.\tFollow the instructions in 7.14 to import the pandas module (as pd).\n",
                "3.\tCreate a pandas Series named grades from a list of integers (exam scores).\n",
                "4.\tGet the value of the first grade with grades[0].\n",
                "5.\tCall the built in Series functions: count(), mean(), min(), max(), std(), and describe()."
            ],
            "metadata": {
                "azdata_cell_guid": "45661b32-4505-4f40-a568-5824e8e0508c"
            },
            "attachments": {}
        },
        {
            "cell_type": "markdown",
            "source": [
                "Import pandas module"
            ],
            "metadata": {
                "language": "python",
                "azdata_cell_guid": "df2cde78-6462-47f2-a923-341504fe52e9"
            },
            "attachments": {}
        },
        {
            "cell_type": "code",
            "source": [
                "import pandas as pd"
            ],
            "metadata": {
                "azdata_cell_guid": "9be8a7c0-a25e-4b60-8f33-4d9c5f98ee01",
                "language": "python"
            },
            "outputs": [],
            "execution_count": 227
        },
        {
            "cell_type": "markdown",
            "source": [
                "Create a pandas Series named grades and display it"
            ],
            "metadata": {
                "azdata_cell_guid": "5718765c-58b8-4749-bcc9-23ede27413b6"
            },
            "attachments": {}
        },
        {
            "cell_type": "code",
            "source": [
                "grades = pd.Series([75, 84, 97])\n",
                "grades"
            ],
            "metadata": {
                "azdata_cell_guid": "5ee1b4cf-4ead-4ab8-9e7f-e0d9f2ec819b",
                "language": "python"
            },
            "outputs": [
                {
                    "data": {
                        "text/plain": "0    75\n1    84\n2    97\ndtype: int64"
                    },
                    "metadata": {},
                    "execution_count": 228,
                    "output_type": "execute_result"
                }
            ],
            "execution_count": 228
        },
        {
            "cell_type": "markdown",
            "source": [
                "Get the first grade"
            ],
            "metadata": {
                "language": "python",
                "azdata_cell_guid": "57ccf8f7-58cb-4833-8b24-91414927e486"
            },
            "attachments": {}
        },
        {
            "cell_type": "code",
            "source": [
                "grades[0]"
            ],
            "metadata": {
                "language": "python",
                "azdata_cell_guid": "9536ea11-8161-4170-8146-fb298d68aa9e"
            },
            "outputs": [
                {
                    "data": {
                        "text/plain": "75"
                    },
                    "metadata": {},
                    "execution_count": 229,
                    "output_type": "execute_result"
                }
            ],
            "execution_count": 229
        },
        {
            "cell_type": "markdown",
            "source": [
                "Count the items in the Series"
            ],
            "metadata": {
                "language": "python",
                "azdata_cell_guid": "1e259127-31f7-49fd-8bc9-6c9e6283578e"
            },
            "attachments": {}
        },
        {
            "cell_type": "code",
            "source": [
                "grades.count()"
            ],
            "metadata": {
                "language": "python",
                "azdata_cell_guid": "589a9550-6099-45e5-9271-c984419b91e4"
            },
            "outputs": [
                {
                    "data": {
                        "text/plain": "3"
                    },
                    "metadata": {},
                    "execution_count": 230,
                    "output_type": "execute_result"
                }
            ],
            "execution_count": 230
        },
        {
            "cell_type": "markdown",
            "source": [
                "Calculate the mean"
            ],
            "metadata": {
                "language": "python",
                "azdata_cell_guid": "489bd6eb-fdb9-40d6-ac48-94b822b20016"
            },
            "attachments": {}
        },
        {
            "cell_type": "code",
            "source": [
                "grades.mean()"
            ],
            "metadata": {
                "language": "python",
                "azdata_cell_guid": "284c2163-43b2-464a-aeea-4d9667b4be4e"
            },
            "outputs": [
                {
                    "data": {
                        "text/plain": "85.33333333333333"
                    },
                    "metadata": {},
                    "execution_count": 231,
                    "output_type": "execute_result"
                }
            ],
            "execution_count": 231
        },
        {
            "cell_type": "markdown",
            "source": [
                "Find the lowers grade"
            ],
            "metadata": {
                "language": "python",
                "azdata_cell_guid": "af2cfa2b-18fc-4d98-a1c6-160be28da35b"
            },
            "attachments": {}
        },
        {
            "cell_type": "code",
            "source": [
                "grades.min()"
            ],
            "metadata": {
                "language": "python",
                "azdata_cell_guid": "5eed3976-631c-4826-b35f-a397019fc6d5"
            },
            "outputs": [
                {
                    "data": {
                        "text/plain": "75"
                    },
                    "metadata": {},
                    "execution_count": 232,
                    "output_type": "execute_result"
                }
            ],
            "execution_count": 232
        },
        {
            "cell_type": "markdown",
            "source": [
                "Show the highest grade"
            ],
            "metadata": {
                "language": "python",
                "azdata_cell_guid": "7826a5b9-110d-4557-9da4-a3883fcae410"
            },
            "attachments": {}
        },
        {
            "cell_type": "code",
            "source": [
                "grades.max()"
            ],
            "metadata": {
                "language": "python",
                "azdata_cell_guid": "603c446e-71bb-415d-970e-979381286653"
            },
            "outputs": [
                {
                    "data": {
                        "text/plain": "97"
                    },
                    "metadata": {},
                    "execution_count": 233,
                    "output_type": "execute_result"
                }
            ],
            "execution_count": 233
        },
        {
            "cell_type": "markdown",
            "source": [
                "Determine the standard deviation"
            ],
            "metadata": {
                "language": "python",
                "azdata_cell_guid": "c6951ab1-e06e-4ba9-9473-e89b5ed44eea"
            },
            "attachments": {}
        },
        {
            "cell_type": "code",
            "source": [
                "grades.std()"
            ],
            "metadata": {
                "language": "python",
                "azdata_cell_guid": "df826e3b-e1ac-4ea9-a140-1c0ec46ee2bc"
            },
            "outputs": [
                {
                    "data": {
                        "text/plain": "11.06044001535804"
                    },
                    "metadata": {},
                    "execution_count": 234,
                    "output_type": "execute_result"
                }
            ],
            "execution_count": 234
        },
        {
            "cell_type": "markdown",
            "source": [
                "Descriptive analysis of the grades"
            ],
            "metadata": {
                "language": "python",
                "azdata_cell_guid": "bc25fc32-1b94-4d9c-a8a6-fdcc5b65c445"
            },
            "attachments": {}
        },
        {
            "cell_type": "code",
            "source": [
                "grades.describe()"
            ],
            "metadata": {
                "language": "python",
                "azdata_cell_guid": "c5bd4a50-3654-4f73-8f3f-2684bc509f78"
            },
            "outputs": [
                {
                    "data": {
                        "text/plain": "count     3.000000\nmean     85.333333\nstd      11.060440\nmin      75.000000\n25%      79.500000\n50%      84.000000\n75%      90.500000\nmax      97.000000\ndtype: float64"
                    },
                    "metadata": {},
                    "execution_count": 235,
                    "output_type": "execute_result"
                }
            ],
            "execution_count": 235
        },
        {
            "cell_type": "markdown",
            "source": [
                "## Task 2 - Series from Dictionary"
            ],
            "metadata": {
                "azdata_cell_guid": "3b197c7e-d74d-4604-b3fe-54f43dbf531c"
            },
            "attachments": {}
        },
        {
            "cell_type": "markdown",
            "source": [
                "1.\tFollow the instructions in the \"Dictionary Initializers' subsection to modify your code to initialize grades with a dictionary (a set of key-value pairs instead) - we'll use the student name as the key  and their exam score as the value. \n",
                "2.\tGet Eva's score by calling grades['Eva']\n",
                "3.\tGet Wally's score using the easier dot notation: grades.Wally.  This is much more common and can be used as long as there are NO spaces in the key text.  If there are spaces, you'll have to use the approach we used for Eva above - wrapping the key in single quotes. \n",
                "4.\tUse the Series values attribute to display the array of values. \n",
                "5.\tComplete the self-check on Page 266. \n",
                "6.\tWe can use a Series whenever our values are a simple one-dimensional array.  \n",
                "7.\tMake sure the notebook is nicely formatted with a heading and sections in Markdown clearly dividing the work. \n",
                ""
            ],
            "metadata": {
                "azdata_cell_guid": "21be0406-746d-4efb-b25f-1d351b08cdc1"
            },
            "attachments": {}
        },
        {
            "cell_type": "markdown",
            "source": [
                "Initialize grades with a dictionary "
            ],
            "metadata": {
                "language": "python",
                "azdata_cell_guid": "4870738e-00f9-4e65-acad-4f7decd8c650"
            },
            "attachments": {}
        },
        {
            "cell_type": "code",
            "source": [
                "grades = pd.Series({'Wally': 87, 'Eva': 100, 'Sam': 94})\n",
                ""
            ],
            "metadata": {
                "azdata_cell_guid": "cbe24b49-ca7b-4480-b983-5a0a8d41a35e",
                "language": "python"
            },
            "outputs": [],
            "execution_count": 236
        },
        {
            "cell_type": "markdown",
            "source": [
                "Get Eva's score"
            ],
            "metadata": {
                "language": "python",
                "azdata_cell_guid": "5e4df63c-899a-4770-935c-73cc11894351"
            },
            "attachments": {}
        },
        {
            "cell_type": "code",
            "source": [
                "grades['Eva']"
            ],
            "metadata": {
                "language": "python",
                "azdata_cell_guid": "63058218-0766-4502-8419-79f0ed287625"
            },
            "outputs": [
                {
                    "data": {
                        "text/plain": "100"
                    },
                    "metadata": {},
                    "execution_count": 237,
                    "output_type": "execute_result"
                }
            ],
            "execution_count": 237
        },
        {
            "cell_type": "markdown",
            "source": [
                "Get Wally's score"
            ],
            "metadata": {
                "language": "python",
                "azdata_cell_guid": "43b2331d-bd72-4927-8e03-c171870ab329"
            },
            "attachments": {}
        },
        {
            "cell_type": "code",
            "source": [
                "grades.Wally"
            ],
            "metadata": {
                "language": "python",
                "azdata_cell_guid": "3c83ff2d-fd9a-401b-aa20-65f97ace3f19"
            },
            "outputs": [
                {
                    "data": {
                        "text/plain": "87"
                    },
                    "metadata": {},
                    "execution_count": 238,
                    "output_type": "execute_result"
                }
            ],
            "execution_count": 238
        },
        {
            "cell_type": "markdown",
            "source": [
                "Display array of values"
            ],
            "metadata": {
                "language": "python",
                "azdata_cell_guid": "fea0c5e0-366d-44dd-b85e-74bb7591fbce"
            },
            "attachments": {}
        },
        {
            "cell_type": "code",
            "source": [
                "grades.values"
            ],
            "metadata": {
                "language": "python",
                "azdata_cell_guid": "d2b077e6-8b1c-44a1-bc76-d5ee0bc8a4de"
            },
            "outputs": [
                {
                    "data": {
                        "text/plain": "array([ 87, 100,  94])"
                    },
                    "metadata": {},
                    "execution_count": 239,
                    "output_type": "execute_result"
                }
            ],
            "execution_count": 239
        },
        {
            "cell_type": "markdown",
            "source": [
                "### Self-check\n",
                "(IPYTHON SESSION) Use the NumPy’s random-number generation to create an array of five random integers that represent summertime temperatures in the range 60–100, then perform the following tasks:\n",
                "\n",
                "Convert the array into the Series named temperatures and display it.\n",
                "\n",
                "Determine the lowest, highest and average temperatures.\n",
                "\n",
                "Produce descriptive statistics for the Series."
            ],
            "metadata": {
                "language": "python",
                "azdata_cell_guid": "c5826a0c-d16a-4eef-a9d5-50ecc5705c98"
            },
            "attachments": {}
        },
        {
            "cell_type": "markdown",
            "source": [
                "Create array of summertime temperatures between 60 and 100"
            ],
            "metadata": {
                "language": "python",
                "azdata_cell_guid": "a02dcc76-094e-4a40-b463-577c54a26acd"
            },
            "attachments": {}
        },
        {
            "cell_type": "code",
            "source": [
                "import numpy as np\n",
                "\n",
                "st = np.random.randint(60, 100, 11)\n",
                "st"
            ],
            "metadata": {
                "language": "python",
                "azdata_cell_guid": "9e35a341-7fc9-4a13-b435-9a742e4f5ea7"
            },
            "outputs": [
                {
                    "data": {
                        "text/plain": "array([95, 87, 99, 79, 60, 81, 74, 90, 66, 67, 78])"
                    },
                    "metadata": {},
                    "execution_count": 240,
                    "output_type": "execute_result"
                }
            ],
            "execution_count": 240
        },
        {
            "cell_type": "markdown",
            "source": [
                "Change the array to Series"
            ],
            "metadata": {
                "language": "python",
                "azdata_cell_guid": "0a101e70-f7d5-460a-bf40-141b3bc932cc"
            },
            "attachments": {}
        },
        {
            "cell_type": "code",
            "source": [
                "temperatures = pd.Series(st)\n",
                "\n",
                "temperatures"
            ],
            "metadata": {
                "language": "python",
                "azdata_cell_guid": "9db3b1a2-5813-40f1-be78-b86a79d86959"
            },
            "outputs": [
                {
                    "data": {
                        "text/plain": "0     95\n1     87\n2     99\n3     79\n4     60\n5     81\n6     74\n7     90\n8     66\n9     67\n10    78\ndtype: int64"
                    },
                    "metadata": {},
                    "execution_count": 241,
                    "output_type": "execute_result"
                }
            ],
            "execution_count": 241
        },
        {
            "cell_type": "markdown",
            "source": [
                "Show the lowest temperature"
            ],
            "metadata": {
                "language": "python",
                "azdata_cell_guid": "22405d42-c9a2-4f86-bc65-6fde737dda50"
            },
            "attachments": {}
        },
        {
            "cell_type": "code",
            "source": [
                "temperatures.min()"
            ],
            "metadata": {
                "language": "python",
                "azdata_cell_guid": "2db4ec84-ffa7-40e8-9d90-c61a429099dc"
            },
            "outputs": [
                {
                    "data": {
                        "text/plain": "60"
                    },
                    "metadata": {},
                    "execution_count": 242,
                    "output_type": "execute_result"
                }
            ],
            "execution_count": 242
        },
        {
            "cell_type": "markdown",
            "source": [
                "Show the highest temperature"
            ],
            "metadata": {
                "language": "python",
                "azdata_cell_guid": "b51e4818-d138-435a-9bbe-fc1bc60b9d87"
            },
            "attachments": {}
        },
        {
            "cell_type": "code",
            "source": [
                "temperatures.max()"
            ],
            "metadata": {
                "language": "python",
                "azdata_cell_guid": "8ff24deb-7827-476f-9986-9c0dbb4a829a"
            },
            "outputs": [
                {
                    "data": {
                        "text/plain": "99"
                    },
                    "metadata": {},
                    "execution_count": 243,
                    "output_type": "execute_result"
                }
            ],
            "execution_count": 243
        },
        {
            "cell_type": "markdown",
            "source": [
                "Show the average temperature"
            ],
            "metadata": {
                "language": "python",
                "azdata_cell_guid": "f4c6cb84-3d84-4f71-9171-8951be49aacf"
            },
            "attachments": {}
        },
        {
            "cell_type": "code",
            "source": [
                "temperatures.mean()"
            ],
            "metadata": {
                "language": "python",
                "azdata_cell_guid": "37a1e665-dda9-4e6e-9297-4ab1d63782ce"
            },
            "outputs": [
                {
                    "data": {
                        "text/plain": "79.63636363636364"
                    },
                    "metadata": {},
                    "execution_count": 244,
                    "output_type": "execute_result"
                }
            ],
            "execution_count": 244
        },
        {
            "cell_type": "markdown",
            "source": [
                "Describe the temperatures"
            ],
            "metadata": {
                "language": "python",
                "azdata_cell_guid": "eb247e84-897c-44b2-8840-081ec18793b4"
            },
            "attachments": {}
        },
        {
            "cell_type": "code",
            "source": [
                "temperatures.describe()"
            ],
            "metadata": {
                "language": "python",
                "azdata_cell_guid": "7b9d51ae-f636-434a-9afd-de302dcab159"
            },
            "outputs": [
{
    "data": {
        "text/plain": "count    11.000000\nmean     79.636364\nstd      12.411871\nmin      60.000000\n25%      70.500000\n50%      79.000000\n75%      88.500000\nmax      99.000000\ndtype: float64"
    },
    "metadata": {},
    "execution_count": 245,
    "output_type": "execute_result"
}
],
            "execution_count": 245
        }
    ]
}