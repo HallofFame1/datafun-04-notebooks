{
    "metadata": {
        "kernelspec": {
            "display_name": "Python 3",
            "language": "python",
            "name": "python3"
        },
        "language_info": {
            "codemirror_mode": {
                "name": "ipython",
                "version": 3
            },
            "file_extension": ".py",
            "mimetype": "text/x-python",
            "name": "python",
            "nbconvert_exporter": "python",
            "pygments_lexer": "ipython3",
            "version": "3.10.7"
        },
        "vscode": {
            "interpreter": {
                "hash": "aee8b7b246df8f9039afb4144a1f6fd8d2ca17a180786b69acc140d282b71a49"
            }
        }
    },
    "nbformat_minor": 2,
    "nbformat": 4,
    "cells": [
        {
            "cell_type": "markdown",
            "source": [
                "# Helen Hammond's Module 4 Project\n",
                "### Date: Feb 15 2023"
            ],
            "metadata": {
                "azdata_cell_guid": "a4b4d86c-0ec3-4cc1-ba2e-4083a97080d5"
            }
        },
        {
            "cell_type": "markdown",
            "source": [
<<<<<<< Updated upstream
                "# Task 1"
=======
<<<<<<< Updated upstream
=======
                "# Task 1\n",
                "## Pandas, Series"
>>>>>>> Stashed changes
            ],
            "metadata": {
                "azdata_cell_guid": "460978a8-54e8-4dd4-a096-182e76732aee"
            },
            "attachments": {}
        },
        {
            "cell_type": "markdown",
            "source": [
                "1.\tStart the Jupyter environment on your machine from your Documents folder.\n",
                "2.\tUse the navigation window to get to your repo for this module. \n",
                "3.\tIn your repo, create a new notebook in Jupyter (name the file yourname_1.ipynb), so mine might be denisecase_1.ipynb.\n",
                "4.\tResearch how to add Markdown to a Jupyter notebook.\n",
                "5.\tAt the top of your new notebook, change the first cell from Python to Markdown.\n",
                "6.\tAdd your name as a top-level heading in Markdown at the top of the file (hint: # Denise Case's Module 4 Project)\n",
                "7.\tIn the next cell of your notebook, change back to Python code. \n",
                "Use the text, do a search, find a video, and/or use the forum to share resources for getting acquainted with notebooks. We won't duplicate those resources here. \n",
<<<<<<< Updated upstream
                "Add a Markdown cell for each section heading.\n",
                ""
=======
                "Add a Markdown cell for each section heading.\n"
>>>>>>> Stashed changes
            ],
            "metadata": {
                "azdata_cell_guid": "65fe89b8-81fa-4be8-977f-65ea1f59417b"
            },
            "attachments": {}
        },
        {
            "cell_type": "markdown",
            "source": [
<<<<<<< Updated upstream
=======
>>>>>>> Stashed changes
>>>>>>> Stashed changes
                "## Task 1 - Series "
            ],
            "metadata": {
                "azdata_cell_guid": "99f455f9-5c46-4c3e-a817-d932e8b0a39f"
            },
            "attachments": {}
        },
        {
            "cell_type": "markdown",
            "source": [
                "1.\tWe'll look at using a one-dimensional pandas Series to hold and process simple exam data.\n",
                "2.\tFollow the instructions in 7.14 to import the pandas module (as pd).\n",
                "3.\tCreate a pandas Series named grades from a list of integers (exam scores).\n",
                "4.\tGet the value of the first grade with grades[0].\n",
                "5.\tCall the built in Series functions: count(), mean(), min(), max(), std(), and describe()."
            ],
            "metadata": {
                "azdata_cell_guid": "45661b32-4505-4f40-a568-5824e8e0508c"
            },
            "attachments": {}
        },
        {
            "cell_type": "markdown",
            "source": [
                "Import pandas module"
            ],
            "metadata": {
                "azdata_cell_guid": "df2cde78-6462-47f2-a923-341504fe52e9",
                "language": "python"
            },
            "attachments": {}
        },
        {
            "cell_type": "code",
            "source": [
                "import pandas as pd"
            ],
            "metadata": {
                "azdata_cell_guid": "9be8a7c0-a25e-4b60-8f33-4d9c5f98ee01",
                "language": "python"
            },
            "outputs": [],
<<<<<<< Updated upstream
            "execution_count": 1
=======
<<<<<<< Updated upstream
            "execution_count": 227
=======
            "execution_count": 59
>>>>>>> Stashed changes
>>>>>>> Stashed changes
        },
        {
            "cell_type": "markdown",
            "source": [
                "Create a pandas Series named grades and display it"
            ],
            "metadata": {
                "azdata_cell_guid": "5718765c-58b8-4749-bcc9-23ede27413b6"
            },
            "attachments": {}
        },
        {
            "cell_type": "code",
            "source": [
                "grades = pd.Series([75, 84, 97])\n",
                "grades"
            ],
            "metadata": {
                "azdata_cell_guid": "5ee1b4cf-4ead-4ab8-9e7f-e0d9f2ec819b",
                "language": "python"
            },
            "outputs": [
                {
                    "data": {
                        "text/plain": "0    75\n1    84\n2    97\ndtype: int64"
                    },
                    "metadata": {},
<<<<<<< Updated upstream
                    "execution_count": 2,
                    "output_type": "execute_result"
                }
            ],
            "execution_count": 2
=======
<<<<<<< Updated upstream
                    "execution_count": 228,
                    "output_type": "execute_result"
                }
            ],
            "execution_count": 228
=======
                    "execution_count": 60,
                    "output_type": "execute_result"
                }
            ],
            "execution_count": 60
>>>>>>> Stashed changes
>>>>>>> Stashed changes
        },
        {
            "cell_type": "markdown",
            "source": [
                "Get the first grade"
            ],
            "metadata": {
                "azdata_cell_guid": "57ccf8f7-58cb-4833-8b24-91414927e486",
                "language": "python"
            },
            "attachments": {}
        },
        {
            "cell_type": "code",
            "source": [
                "grades[0]"
            ],
            "metadata": {
                "azdata_cell_guid": "9536ea11-8161-4170-8146-fb298d68aa9e",
                "language": "python"
            },
            "outputs": [
                {
                    "data": {
                        "text/plain": "75"
                    },
                    "metadata": {},
<<<<<<< Updated upstream
                    "execution_count": 3,
                    "output_type": "execute_result"
                }
            ],
            "execution_count": 3
=======
<<<<<<< Updated upstream
                    "execution_count": 229,
                    "output_type": "execute_result"
                }
            ],
            "execution_count": 229
=======
                    "execution_count": 61,
                    "output_type": "execute_result"
                }
            ],
            "execution_count": 61
>>>>>>> Stashed changes
>>>>>>> Stashed changes
        },
        {
            "cell_type": "markdown",
            "source": [
                "Count the items in the Series"
            ],
            "metadata": {
                "azdata_cell_guid": "1e259127-31f7-49fd-8bc9-6c9e6283578e",
                "language": "python"
            },
            "attachments": {}
        },
        {
            "cell_type": "code",
            "source": [
                "grades.count()"
            ],
            "metadata": {
                "azdata_cell_guid": "589a9550-6099-45e5-9271-c984419b91e4",
                "language": "python"
            },
            "outputs": [
                {
                    "data": {
                        "text/plain": "3"
                    },
                    "metadata": {},
<<<<<<< Updated upstream
                    "execution_count": 4,
                    "output_type": "execute_result"
                }
            ],
            "execution_count": 4
=======
<<<<<<< Updated upstream
                    "execution_count": 230,
                    "output_type": "execute_result"
                }
            ],
            "execution_count": 230
=======
                    "execution_count": 62,
                    "output_type": "execute_result"
                }
            ],
            "execution_count": 62
>>>>>>> Stashed changes
>>>>>>> Stashed changes
        },
        {
            "cell_type": "markdown",
            "source": [
                "Calculate the mean"
            ],
            "metadata": {
                "azdata_cell_guid": "489bd6eb-fdb9-40d6-ac48-94b822b20016",
                "language": "python"
            },
            "attachments": {}
        },
        {
            "cell_type": "code",
            "source": [
                "grades.mean()"
            ],
            "metadata": {
                "azdata_cell_guid": "284c2163-43b2-464a-aeea-4d9667b4be4e",
                "language": "python"
            },
            "outputs": [
                {
                    "data": {
                        "text/plain": "85.33333333333333"
                    },
                    "metadata": {},
<<<<<<< Updated upstream
                    "execution_count": 5,
                    "output_type": "execute_result"
                }
            ],
            "execution_count": 5
=======
<<<<<<< Updated upstream
                    "execution_count": 231,
                    "output_type": "execute_result"
                }
            ],
            "execution_count": 231
=======
                    "execution_count": 63,
                    "output_type": "execute_result"
                }
            ],
            "execution_count": 63
>>>>>>> Stashed changes
>>>>>>> Stashed changes
        },
        {
            "cell_type": "markdown",
            "source": [
                "Find the lowers grade"
            ],
            "metadata": {
                "azdata_cell_guid": "af2cfa2b-18fc-4d98-a1c6-160be28da35b",
                "language": "python"
            },
            "attachments": {}
        },
        {
            "cell_type": "code",
            "source": [
                "grades.min()"
            ],
            "metadata": {
                "azdata_cell_guid": "5eed3976-631c-4826-b35f-a397019fc6d5",
                "language": "python"
            },
            "outputs": [
                {
                    "data": {
                        "text/plain": "75"
                    },
                    "metadata": {},
<<<<<<< Updated upstream
                    "execution_count": 6,
                    "output_type": "execute_result"
                }
            ],
            "execution_count": 6
=======
<<<<<<< Updated upstream
                    "execution_count": 232,
                    "output_type": "execute_result"
                }
            ],
            "execution_count": 232
=======
                    "execution_count": 64,
                    "output_type": "execute_result"
                }
            ],
            "execution_count": 64
>>>>>>> Stashed changes
>>>>>>> Stashed changes
        },
        {
            "cell_type": "markdown",
            "source": [
                "Show the highest grade"
            ],
            "metadata": {
                "azdata_cell_guid": "7826a5b9-110d-4557-9da4-a3883fcae410",
                "language": "python"
            },
            "attachments": {}
        },
        {
            "cell_type": "code",
            "source": [
                "grades.max()"
            ],
            "metadata": {
                "azdata_cell_guid": "603c446e-71bb-415d-970e-979381286653",
                "language": "python"
            },
            "outputs": [
                {
                    "data": {
                        "text/plain": "97"
                    },
                    "metadata": {},
<<<<<<< Updated upstream
                    "execution_count": 7,
                    "output_type": "execute_result"
                }
            ],
            "execution_count": 7
=======
<<<<<<< Updated upstream
                    "execution_count": 233,
                    "output_type": "execute_result"
                }
            ],
            "execution_count": 233
=======
                    "execution_count": 65,
                    "output_type": "execute_result"
                }
            ],
            "execution_count": 65
>>>>>>> Stashed changes
>>>>>>> Stashed changes
        },
        {
            "cell_type": "markdown",
            "source": [
                "Determine the standard deviation"
            ],
            "metadata": {
                "azdata_cell_guid": "c6951ab1-e06e-4ba9-9473-e89b5ed44eea",
                "language": "python"
            },
            "attachments": {}
        },
        {
            "cell_type": "code",
            "source": [
                "grades.std()"
            ],
            "metadata": {
                "azdata_cell_guid": "df826e3b-e1ac-4ea9-a140-1c0ec46ee2bc",
                "language": "python"
            },
            "outputs": [
                {
                    "data": {
                        "text/plain": "11.06044001535804"
                    },
                    "metadata": {},
<<<<<<< Updated upstream
                    "execution_count": 8,
                    "output_type": "execute_result"
                }
            ],
            "execution_count": 8
=======
<<<<<<< Updated upstream
                    "execution_count": 234,
                    "output_type": "execute_result"
                }
            ],
            "execution_count": 234
=======
                    "execution_count": 66,
                    "output_type": "execute_result"
                }
            ],
            "execution_count": 66
>>>>>>> Stashed changes
>>>>>>> Stashed changes
        },
        {
            "cell_type": "markdown",
            "source": [
                "Descriptive analysis of the grades"
            ],
            "metadata": {
                "azdata_cell_guid": "bc25fc32-1b94-4d9c-a8a6-fdcc5b65c445",
                "language": "python"
            },
            "attachments": {}
        },
        {
            "cell_type": "code",
            "source": [
                "grades.describe()"
            ],
            "metadata": {
                "azdata_cell_guid": "c5bd4a50-3654-4f73-8f3f-2684bc509f78",
                "language": "python"
            },
            "outputs": [
                {
                    "data": {
                        "text/plain": "count     3.00\nmean     85.33\nstd      11.06\nmin      75.00\n25%      79.50\n50%      84.00\n75%      90.50\nmax      97.00\ndtype: float64"
                    },
                    "metadata": {},
<<<<<<< Updated upstream
                    "execution_count": 9,
                    "output_type": "execute_result"
                }
            ],
            "execution_count": 9
=======
<<<<<<< Updated upstream
                    "execution_count": 235,
                    "output_type": "execute_result"
                }
            ],
            "execution_count": 235
=======
                    "execution_count": 67,
                    "output_type": "execute_result"
                }
            ],
            "execution_count": 67
>>>>>>> Stashed changes
>>>>>>> Stashed changes
        },
        {
            "cell_type": "markdown",
            "source": [
                "## Task 2 - Series from Dictionary"
            ],
            "metadata": {
                "azdata_cell_guid": "3b197c7e-d74d-4604-b3fe-54f43dbf531c"
            },
            "attachments": {}
        },
        {
            "cell_type": "markdown",
            "source": [
                "1.\tFollow the instructions in the \"Dictionary Initializers' subsection to modify your code to initialize grades with a dictionary (a set of key-value pairs instead) - we'll use the student name as the key  and their exam score as the value. \n",
                "2.\tGet Eva's score by calling grades['Eva']\n",
                "3.\tGet Wally's score using the easier dot notation: grades.Wally.  This is much more common and can be used as long as there are NO spaces in the key text.  If there are spaces, you'll have to use the approach we used for Eva above - wrapping the key in single quotes. \n",
                "4.\tUse the Series values attribute to display the array of values. \n",
                "5.\tComplete the self-check on Page 266. \n",
                "6.\tWe can use a Series whenever our values are a simple one-dimensional array.  \n",
                "7.\tMake sure the notebook is nicely formatted with a heading and sections in Markdown clearly dividing the work. \n"
            ],
            "metadata": {
                "azdata_cell_guid": "21be0406-746d-4efb-b25f-1d351b08cdc1"
            },
            "attachments": {}
        },
        {
            "cell_type": "markdown",
            "source": [
                "Initialize grades with a dictionary "
            ],
            "metadata": {
                "azdata_cell_guid": "4870738e-00f9-4e65-acad-4f7decd8c650",
                "language": "python"
            },
            "attachments": {}
        },
        {
            "cell_type": "code",
            "source": [
                "grades = pd.Series({'Wally': 87, 'Eva': 100, 'Sam': 94})\n"
            ],
            "metadata": {
                "azdata_cell_guid": "cbe24b49-ca7b-4480-b983-5a0a8d41a35e",
                "language": "python"
            },
            "outputs": [],
<<<<<<< Updated upstream
            "execution_count": 10
=======
<<<<<<< Updated upstream
            "execution_count": 236
=======
            "execution_count": 68
>>>>>>> Stashed changes
>>>>>>> Stashed changes
        },
        {
            "cell_type": "markdown",
            "source": [
                "Get Eva's score"
            ],
            "metadata": {
                "azdata_cell_guid": "5e4df63c-899a-4770-935c-73cc11894351",
                "language": "python"
            },
            "attachments": {}
        },
        {
            "cell_type": "code",
            "source": [
                "grades['Eva']"
            ],
            "metadata": {
                "azdata_cell_guid": "63058218-0766-4502-8419-79f0ed287625",
                "language": "python"
            },
            "outputs": [
                {
                    "data": {
                        "text/plain": "100"
                    },
                    "metadata": {},
<<<<<<< Updated upstream
                    "execution_count": 11,
                    "output_type": "execute_result"
                }
            ],
            "execution_count": 11
=======
<<<<<<< Updated upstream
                    "execution_count": 237,
                    "output_type": "execute_result"
                }
            ],
            "execution_count": 237
=======
                    "execution_count": 69,
                    "output_type": "execute_result"
                }
            ],
            "execution_count": 69
>>>>>>> Stashed changes
>>>>>>> Stashed changes
        },
        {
            "cell_type": "markdown",
            "source": [
                "Get Wally's score"
            ],
            "metadata": {
                "azdata_cell_guid": "43b2331d-bd72-4927-8e03-c171870ab329",
                "language": "python"
            },
            "attachments": {}
        },
        {
            "cell_type": "code",
            "source": [
                "grades.Wally"
            ],
            "metadata": {
                "azdata_cell_guid": "3c83ff2d-fd9a-401b-aa20-65f97ace3f19",
                "language": "python"
            },
            "outputs": [
                {
                    "data": {
                        "text/plain": "87"
                    },
                    "metadata": {},
<<<<<<< Updated upstream
                    "execution_count": 12,
                    "output_type": "execute_result"
                }
            ],
            "execution_count": 12
=======
<<<<<<< Updated upstream
                    "execution_count": 238,
                    "output_type": "execute_result"
                }
            ],
            "execution_count": 238
=======
                    "execution_count": 70,
                    "output_type": "execute_result"
                }
            ],
            "execution_count": 70
>>>>>>> Stashed changes
>>>>>>> Stashed changes
        },
        {
            "cell_type": "markdown",
            "source": [
                "Display array of values"
            ],
            "metadata": {
                "azdata_cell_guid": "fea0c5e0-366d-44dd-b85e-74bb7591fbce",
                "language": "python"
            },
            "attachments": {}
        },
        {
            "cell_type": "code",
            "source": [
                "grades.values"
            ],
            "metadata": {
                "azdata_cell_guid": "d2b077e6-8b1c-44a1-bc76-d5ee0bc8a4de",
                "language": "python"
            },
            "outputs": [
                {
                    "data": {
                        "text/plain": "array([ 87, 100,  94])"
                    },
                    "metadata": {},
<<<<<<< Updated upstream
                    "execution_count": 13,
                    "output_type": "execute_result"
                }
            ],
            "execution_count": 13
=======
<<<<<<< Updated upstream
                    "execution_count": 239,
                    "output_type": "execute_result"
                }
            ],
            "execution_count": 239
=======
                    "execution_count": 71,
                    "output_type": "execute_result"
                }
            ],
            "execution_count": 71
>>>>>>> Stashed changes
>>>>>>> Stashed changes
        },
        {
            "cell_type": "markdown",
            "source": [
                "### Self-check\n",
                "(IPYTHON SESSION) Use the NumPy’s random-number generation to create an array of five random integers that represent summertime temperatures in the range 60–100, then perform the following tasks:\n",
                "\n",
                "Convert the array into the Series named temperatures and display it.\n",
                "\n",
                "Determine the lowest, highest and average temperatures.\n",
                "\n",
                "Produce descriptive statistics for the Series."
            ],
            "metadata": {
                "azdata_cell_guid": "c5826a0c-d16a-4eef-a9d5-50ecc5705c98",
                "language": "python"
            },
            "attachments": {}
        },
        {
            "cell_type": "markdown",
            "source": [
                "Create array of summertime temperatures between 60 and 100"
            ],
            "metadata": {
                "azdata_cell_guid": "a02dcc76-094e-4a40-b463-577c54a26acd",
                "language": "python"
            },
            "attachments": {}
        },
        {
            "cell_type": "code",
            "source": [
                "import numpy as np\n",
                "\n",
                "st = np.random.randint(60, 100, 11)\n",
                "st"
            ],
            "metadata": {
                "azdata_cell_guid": "9e35a341-7fc9-4a13-b435-9a742e4f5ea7",
                "language": "python"
            },
            "outputs": [
                {
                    "data": {
<<<<<<< Updated upstream
                        "text/plain": "array([86, 75, 85, 70, 63, 99, 72, 86, 80, 97, 81])"
=======
<<<<<<< Updated upstream
                        "text/plain": "array([95, 87, 99, 79, 60, 81, 74, 90, 66, 67, 78])"
>>>>>>> Stashed changes
                    },
                    "metadata": {},
                    "execution_count": 14,
                    "output_type": "execute_result"
                }
            ],
<<<<<<< Updated upstream
            "execution_count": 14
=======
            "execution_count": 240
=======
                        "text/plain": "array([63, 95, 66, 94, 71, 89, 99, 92, 92, 78, 94])"
                    },
                    "metadata": {},
                    "execution_count": 72,
                    "output_type": "execute_result"
                }
            ],
            "execution_count": 72
>>>>>>> Stashed changes
>>>>>>> Stashed changes
        },
        {
            "cell_type": "markdown",
            "source": [
                "Change the array to Series"
            ],
            "metadata": {
                "azdata_cell_guid": "0a101e70-f7d5-460a-bf40-141b3bc932cc",
                "language": "python"
            },
            "attachments": {}
        },
        {
            "cell_type": "code",
            "source": [
                "temperatures = pd.Series(st)\n",
                "\n",
                "temperatures"
            ],
            "metadata": {
                "azdata_cell_guid": "9db3b1a2-5813-40f1-be78-b86a79d86959",
                "language": "python"
            },
            "outputs": [
                {
                    "data": {
<<<<<<< Updated upstream
                        "text/plain": "0     86\n1     75\n2     85\n3     70\n4     63\n5     99\n6     72\n7     86\n8     80\n9     97\n10    81\ndtype: int64"
=======
<<<<<<< Updated upstream
                        "text/plain": "0     95\n1     87\n2     99\n3     79\n4     60\n5     81\n6     74\n7     90\n8     66\n9     67\n10    78\ndtype: int64"
>>>>>>> Stashed changes
                    },
                    "metadata": {},
                    "execution_count": 15,
                    "output_type": "execute_result"
                }
            ],
<<<<<<< Updated upstream
            "execution_count": 15
=======
            "execution_count": 241
=======
                        "text/plain": "0     63\n1     95\n2     66\n3     94\n4     71\n5     89\n6     99\n7     92\n8     92\n9     78\n10    94\ndtype: int64"
                    },
                    "metadata": {},
                    "execution_count": 73,
                    "output_type": "execute_result"
                }
            ],
            "execution_count": 73
>>>>>>> Stashed changes
>>>>>>> Stashed changes
        },
        {
            "cell_type": "markdown",
            "source": [
                "Show the lowest temperature"
            ],
            "metadata": {
                "azdata_cell_guid": "22405d42-c9a2-4f86-bc65-6fde737dda50",
                "language": "python"
            },
            "attachments": {}
        },
        {
            "cell_type": "code",
            "source": [
                "temperatures.min()"
            ],
            "metadata": {
                "azdata_cell_guid": "2db4ec84-ffa7-40e8-9d90-c61a429099dc",
                "language": "python"
            },
            "outputs": [
                {
                    "data": {
                        "text/plain": "63"
                    },
                    "metadata": {},
<<<<<<< Updated upstream
                    "execution_count": 16,
                    "output_type": "execute_result"
                }
            ],
            "execution_count": 16
=======
<<<<<<< Updated upstream
                    "execution_count": 242,
                    "output_type": "execute_result"
                }
            ],
            "execution_count": 242
=======
                    "execution_count": 74,
                    "output_type": "execute_result"
                }
            ],
            "execution_count": 74
>>>>>>> Stashed changes
>>>>>>> Stashed changes
        },
        {
            "cell_type": "markdown",
            "source": [
                "Show the highest temperature"
            ],
            "metadata": {
                "azdata_cell_guid": "b51e4818-d138-435a-9bbe-fc1bc60b9d87",
                "language": "python"
            },
            "attachments": {}
        },
        {
            "cell_type": "code",
            "source": [
                "temperatures.max()"
            ],
            "metadata": {
                "azdata_cell_guid": "8ff24deb-7827-476f-9986-9c0dbb4a829a",
                "language": "python"
            },
            "outputs": [
                {
                    "data": {
                        "text/plain": "99"
                    },
                    "metadata": {},
<<<<<<< Updated upstream
                    "execution_count": 17,
                    "output_type": "execute_result"
                }
            ],
            "execution_count": 17
=======
<<<<<<< Updated upstream
                    "execution_count": 243,
                    "output_type": "execute_result"
                }
            ],
            "execution_count": 243
=======
                    "execution_count": 75,
                    "output_type": "execute_result"
                }
            ],
            "execution_count": 75
>>>>>>> Stashed changes
>>>>>>> Stashed changes
        },
        {
            "cell_type": "markdown",
            "source": [
                "Show the average temperature"
            ],
            "metadata": {
                "azdata_cell_guid": "f4c6cb84-3d84-4f71-9171-8951be49aacf",
                "language": "python"
            },
            "attachments": {}
        },
        {
            "cell_type": "code",
            "source": [
                "temperatures.mean()"
            ],
            "metadata": {
                "azdata_cell_guid": "37a1e665-dda9-4e6e-9297-4ab1d63782ce",
                "language": "python"
            },
            "outputs": [
                {
                    "data": {
<<<<<<< Updated upstream
                        "text/plain": "81.27272727272727"
=======
<<<<<<< Updated upstream
                        "text/plain": "79.63636363636364"
>>>>>>> Stashed changes
                    },
                    "metadata": {},
                    "execution_count": 18,
                    "output_type": "execute_result"
                }
            ],
<<<<<<< Updated upstream
            "execution_count": 18
=======
            "execution_count": 244
=======
                        "text/plain": "84.81818181818181"
                    },
                    "metadata": {},
                    "execution_count": 76,
                    "output_type": "execute_result"
                }
            ],
            "execution_count": 76
>>>>>>> Stashed changes
>>>>>>> Stashed changes
        },
        {
            "cell_type": "markdown",
            "source": [
                "Describe the temperatures"
            ],
            "metadata": {
                "azdata_cell_guid": "eb247e84-897c-44b2-8840-081ec18793b4",
                "language": "python"
            },
            "attachments": {}
        },
        {
            "cell_type": "code",
            "source": [
                "temperatures.describe()"
            ],
            "metadata": {
                "azdata_cell_guid": "7b9d51ae-f636-434a-9afd-de302dcab159",
                "language": "python"
            },
            "outputs": [
{
    "data": {
<<<<<<< Updated upstream
        "text/plain": "count    11.000000\nmean     81.272727\nstd      10.991732\nmin      63.000000\n25%      73.500000\n50%      81.000000\n75%      86.000000\nmax      99.000000\ndtype: float64"
=======
<<<<<<< Updated upstream
        "text/plain": "count    11.000000\nmean     79.636364\nstd      12.411871\nmin      60.000000\n25%      70.500000\n50%      79.000000\n75%      88.500000\nmax      99.000000\ndtype: float64"
>>>>>>> Stashed changes
    },
    "metadata": {},
    "execution_count": 19,
    "output_type": "execute_result"
}
],
<<<<<<< Updated upstream
            "execution_count": 19
=======
            "execution_count": 245
=======
        "text/plain": "count    11.00\nmean     84.82\nstd      12.89\nmin      63.00\n25%      74.50\n50%      92.00\n75%      94.00\nmax      99.00\ndtype: float64"
    },
    "metadata": {},
    "execution_count": 77,
    "output_type": "execute_result"
}
],
            "execution_count": 77
>>>>>>> Stashed changes
>>>>>>> Stashed changes
        }
    ]
}