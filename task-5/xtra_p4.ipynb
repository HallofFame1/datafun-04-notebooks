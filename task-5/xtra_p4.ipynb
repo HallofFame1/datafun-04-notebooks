{
    "metadata": {
        "kernelspec": {
            "name": "python3",
            "display_name": "Python 3 (ipykernel)",
            "language": "python"
        },
        "language_info": {
            "name": "python",
            "version": "3.10.7",
            "mimetype": "text/x-python",
            "codemirror_mode": {
                "name": "ipython",
                "version": 3
            },
            "pygments_lexer": "ipython3",
            "nbconvert_exporter": "python",
            "file_extension": ".py"
        },
        "vscode": {
            "interpreter": {
                "hash": "aee8b7b246df8f9039afb4144a1f6fd8d2ca17a180786b69acc140d282b71a49"
            }
        }
    },
    "nbformat_minor": 2,
    "nbformat": 4,
    "cells": [
        {
            "cell_type": "markdown",
            "source": [
                "# Helen Hammond's Module 4 Project\n",
                "### Date: Feb 16 2023"
            ],
            "metadata": {
                "azdata_cell_guid": "a4b4d86c-0ec3-4cc1-ba2e-4083a97080d5"
            }
        },
        {
            "cell_type": "markdown",
            "source": [
                "# Optional Task 5 (Bonus)\n",
                "\n",
                "## Pandas, Regular Expressions and Data Munging"
            ],
            "metadata": {
                "azdata_cell_guid": "c92d3523-9878-4f8b-a4a8-666f955c57a4"
            },
            "attachments": {}
        },
        {
            "cell_type": "markdown",
            "source": [
                "1.\tRaw data is rarely ready for use.\n",
                "2.\tData preparation can be about 75% (or more) of our work.\n",
                "3.\tWork through Ch 8.13 to get an idea of wrangling (cleaning & transforming) data.\n",
                "4.\tOn your machine, in your repo, create an additional notebook named xtra_p4.ipynb.\n",
                "5.\tStart by creating the list of contacts in \"Reformatting your Data\" on page 310.\n",
                "6.\tCreate a DataFrame. \n",
                "7.\tThe phone numbers are not formatted.\n",
                "8.\tFollow the text to create a function that uses regular expressions (usually abbreviated regex or re) to create a function to get a formatted version of the unformatted phone number. \n",
                "9.\tUse map() and your function to improve the DataFrame \n",
                "10.\tVerify phone numbers now appear with two dashes (e.g., 555-555-5555). \n",
                "11.\tPrepare your notebook with a nice header (include a title, your name, and date)\n",
                "12.\tClearly label your steps and result. \n",
                "13.\tExecute the entire notebook, export it to xtra_p4.html.\n",
                "14.\tCommit and push both files into your GitHub repo. \n",
                ""
            ],
            "metadata": {
                "azdata_cell_guid": "45661b32-4505-4f40-a568-5824e8e0508c"
            },
            "attachments": {}
        },
        {
            "cell_type": "markdown",
            "source": [
                "Import pandas module"
            ],
            "metadata": {
                "azdata_cell_guid": "df2cde78-6462-47f2-a923-341504fe52e9",
                "language": "python"
            },
            "attachments": {}
        },
        {
            "cell_type": "code",
            "source": [
                "import pandas as pd"
            ],
            "metadata": {
                "azdata_cell_guid": "9be8a7c0-a25e-4b60-8f33-4d9c5f98ee01",
                "language": "python"
            },
            "outputs": [],
            "execution_count": 1
        },
        {
            "cell_type": "markdown",
            "source": [
                "Create and display a list of contacts"
            ],
            "metadata": {
                "azdata_cell_guid": "5718765c-58b8-4749-bcc9-23ede27413b6"
            },
            "attachments": {}
        },
        {
            "cell_type": "code",
            "source": [
                "contacts = [['Mike Green', 'demo1@deitel.com', '5555555555'], ['Sue Brown', 'demo2@deitel.com', '5555551234']]\n",
                "contacts"
            ],
            "metadata": {
                "azdata_cell_guid": "5ee1b4cf-4ead-4ab8-9e7f-e0d9f2ec819b",
                "language": "python"
            },
            "outputs": [
                {
                    "data": {
                        "text/plain": "[['Mike Green', 'demo1@deitel.com', '5555555555'],\n ['Sue Brown', 'demo2@deitel.com', '5555551234']]"
                    },
                    "metadata": {},
                    "execution_count": 2,
                    "output_type": "execute_result"
                }
            ],
            "execution_count": 2
        },
        {
            "cell_type": "markdown",
            "source": [
                "Create and display a DataFrame from the contacts"
            ],
            "metadata": {
                "azdata_cell_guid": "05d3134c-b550-4ebf-9347-8aa479559288",
                "language": "python"
            },
            "attachments": {}
        },
        {
            "cell_type": "code",
            "source": [
                "conctacts_frame = pd.DataFrame(contacts, columns=['Name', 'Email', 'Phone'])\n",
                "conctacts_frame"
            ],
            "metadata": {
                "azdata_cell_guid": "6b4f328f-af15-42d8-bebc-a84e0de0616c",
                "language": "python"
            },
            "outputs": [
                {
                    "data": {
                        "text/plain": "         Name             Email       Phone\n0  Mike Green  demo1@deitel.com  5555555555\n1   Sue Brown  demo2@deitel.com  5555551234",
                        "text/html": "<div>\n<style scoped>\n    .dataframe tbody tr th:only-of-type {\n        vertical-align: middle;\n    }\n\n    .dataframe tbody tr th {\n        vertical-align: top;\n    }\n\n    .dataframe thead th {\n        text-align: right;\n    }\n</style>\n<table border=\"1\" class=\"dataframe\">\n  <thead>\n    <tr style=\"text-align: right;\">\n      <th></th>\n      <th>Name</th>\n      <th>Email</th>\n      <th>Phone</th>\n    </tr>\n  </thead>\n  <tbody>\n    <tr>\n      <th>0</th>\n      <td>Mike Green</td>\n      <td>demo1@deitel.com</td>\n      <td>5555555555</td>\n    </tr>\n    <tr>\n      <th>1</th>\n      <td>Sue Brown</td>\n      <td>demo2@deitel.com</td>\n      <td>5555551234</td>\n    </tr>\n  </tbody>\n</table>\n</div>"
                    },
                    "metadata": {},
                    "execution_count": 3,
                    "output_type": "execute_result"
                }
            ],
            "execution_count": 3
        },
        {
            "cell_type": "markdown",
            "source": [
                "Import regular expression module"
            ],
            "metadata": {
                "language": "python",
                "azdata_cell_guid": "bc4615ce-7c05-4f34-bf96-ea3dd4940b9b"
            },
            "attachments": {}
        },
        {
            "cell_type": "code",
            "source": [
                "import re"
            ],
            "metadata": {
                "language": "python",
                "azdata_cell_guid": "78b865e9-ffb5-48db-b1cf-aafd38fca323"
            },
            "outputs": [],
            "execution_count": 4
        },
        {
            "cell_type": "markdown",
            "source": [
                "Create a formating function that uses regex for the phone numbers."
            ],
            "metadata": {
                "azdata_cell_guid": "6dc74f98-bbf8-45a5-855f-fa6cfd25ed86",
                "language": "python"
            },
            "attachments": {}
        },
        {
            "cell_type": "code",
            "source": [
                "def get_formatted_number(unformatted_value):\n",
                "    result = re.fullmatch(r'(\\d{3})(\\d{3})(\\d{4})', unformatted_value)\n",
                "    return '-'.join(result.groups()) if result else unformatted_value "
            ],
            "metadata": {
                "azdata_cell_guid": "c42a3d99-cfdc-4b10-a807-123642cc6840",
                "language": "python",
                "tags": []
            },
            "outputs": [],
            "execution_count": 5
        },
        {
            "cell_type": "markdown",
            "source": [
                "The function above takes in the unformatted phone numbers.  \n",
                "The numbers are matched into groups of 3, 3 and 4 digits. _groups(_)  \n",
                "The positive result is concatenated seperated by hyphen and returned. _join()_  \n",
                " If the result doesn't exist, the original value is returned."
            ],
            "metadata": {
                "language": "python",
                "azdata_cell_guid": "efaeb404-0b25-4e0a-b7df-ddb54a67cfa6"
            },
            "attachments": {}
        },
        {
            "cell_type": "markdown",
            "source": [
                "Format the numbers in the DataFrame using map()"
            ],
            "metadata": {
                "azdata_cell_guid": "57ccf8f7-58cb-4833-8b24-91414927e486",
                "language": "python"
            },
            "attachments": {}
        },
        {
            "cell_type": "code",
            "source": [
                "conctacts_frame['Phone'] = conctacts_frame['Phone'].map(get_formatted_number)"
            ],
            "metadata": {
                "azdata_cell_guid": "9536ea11-8161-4170-8146-fb298d68aa9e",
                "language": "python"
            },
            "outputs": [],
            "execution_count": 6
        },
        {
            "cell_type": "markdown",
            "source": [
                "Verify the formatting"
            ],
            "metadata": {
                "azdata_cell_guid": "2778b388-1893-4ada-8a87-f647c3aabafc",
                "language": "python"
            },
            "attachments": {}
        },
        {
            "cell_type": "code",
            "source": [
                "conctacts_frame"
            ],
            "metadata": {
                "azdata_cell_guid": "72d1632c-c7ce-456c-960c-dc83b9ee423a",
                "language": "python"
            },
            "outputs": [
{
    "data": {
        "text/plain": "         Name             Email         Phone\n0  Mike Green  demo1@deitel.com  555-555-5555\n1   Sue Brown  demo2@deitel.com  555-555-1234",
        "text/html": "<div>\n<style scoped>\n    .dataframe tbody tr th:only-of-type {\n        vertical-align: middle;\n    }\n\n    .dataframe tbody tr th {\n        vertical-align: top;\n    }\n\n    .dataframe thead th {\n        text-align: right;\n    }\n</style>\n<table border=\"1\" class=\"dataframe\">\n  <thead>\n    <tr style=\"text-align: right;\">\n      <th></th>\n      <th>Name</th>\n      <th>Email</th>\n      <th>Phone</th>\n    </tr>\n  </thead>\n  <tbody>\n    <tr>\n      <th>0</th>\n      <td>Mike Green</td>\n      <td>demo1@deitel.com</td>\n      <td>555-555-5555</td>\n    </tr>\n    <tr>\n      <th>1</th>\n      <td>Sue Brown</td>\n      <td>demo2@deitel.com</td>\n      <td>555-555-1234</td>\n    </tr>\n  </tbody>\n</table>\n</div>"
    },
    "metadata": {},
    "execution_count": 7,
    "output_type": "execute_result"
}
],
            "execution_count": 7
        }
    ]
}